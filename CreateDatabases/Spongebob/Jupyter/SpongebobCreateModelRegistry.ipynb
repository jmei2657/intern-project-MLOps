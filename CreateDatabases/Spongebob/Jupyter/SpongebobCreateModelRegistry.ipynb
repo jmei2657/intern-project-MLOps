{
 "cells": [
  {
   "cell_type": "code",
   "execution_count": 13,
   "id": "a2f4f2af-945d-48fc-a113-0ccbb07d0027",
   "metadata": {},
   "outputs": [
    {
     "name": "stdout",
     "output_type": "stream",
     "text": [
      "Connected to PostgreSQL successfully.\n"
     ]
    }
   ],
   "source": [
    "import boto3\n",
    "from botocore.exceptions import ClientError\n",
    "import json\n",
    "import psycopg2\n",
    "from psycopg2 import sql\n",
    "\n",
    "def get_secret():\n",
    "    secret_name = \"DBCreds\"\n",
    "    region_name = \"us-east-1\"\n",
    "\n",
    "    # Create a Secrets Manager client\n",
    "    session = boto3.session.Session()\n",
    "    client = session.client(\n",
    "        service_name='secretsmanager',\n",
    "        region_name=region_name\n",
    "    )\n",
    "\n",
    "    try:\n",
    "        get_secret_value_response = client.get_secret_value(\n",
    "            SecretId=secret_name\n",
    "        )\n",
    "    except ClientError as e:\n",
    "        raise e\n",
    "\n",
    "    secret = get_secret_value_response['SecretString']\n",
    "    \n",
    "    # Parse the secret string to get the credentials\n",
    "    secret_dict = json.loads(secret)\n",
    "    username = secret_dict['username']\n",
    "    password = secret_dict['password']\n",
    "    host = secret_dict['host']\n",
    "    port = secret_dict['port']\n",
    "    dbname = secret_dict['dbname']\n",
    "\n",
    "    return username, password, host, port, dbname\n",
    "\n",
    "# Retrieve database credentials\n",
    "(user, pswd, host, port, db) = get_secret()\n",
    "\n",
    "# Database details\n",
    "db_details = {\n",
    "    'dbname': db,\n",
    "    'user': user,\n",
    "    'password': pswd,\n",
    "    'host': host,\n",
    "    'port': port\n",
    "}\n",
    "\n",
    "# Connect to PostgreSQL\n",
    "try:\n",
    "    conn = psycopg2.connect(**db_details)\n",
    "    cursor = conn.cursor()\n",
    "    print(\"Connected to PostgreSQL successfully.\")\n",
    "except Exception as e:\n",
    "    print(f\"Failed to connect to PostgreSQL: {e}\")\n",
    "    exit()"
   ]
  },
  {
   "cell_type": "code",
   "execution_count": 14,
   "id": "66ee6cd4-6371-40d0-b2bc-ebf140a30c49",
   "metadata": {},
   "outputs": [
    {
     "name": "stdout",
     "output_type": "stream",
     "text": [
      "Table 'spongebob_model_metrics' created successfully.\n",
      "PostgreSQL connection closed.\n"
     ]
    }
   ],
   "source": [
    "try:\n",
    "    create_table_query = sql.SQL(\"\"\"\n",
    "    CREATE TABLE spongebob_model_metrics (\n",
    "        name VARCHAR(100) NOT NULL,\n",
    "        version INTEGER NOT NULL,\n",
    "        URI VARCHAR(255),\n",
    "        in_use BOOLEAN,\n",
    "        map50_95 DOUBLE PRECISION,\n",
    "        map50 DOUBLE PRECISION,\n",
    "        map75 DOUBLE PRECISION,\n",
    "        PRIMARY KEY (name, version),\n",
    "        FOREIGN KEY(version) REFERENCES metadata_table_spongebob(version),\n",
    "        created_at TIMESTAMP DEFAULT CURRENT_TIMESTAMP\n",
    "    );\n",
    "    \"\"\")\n",
    "\n",
    "    cursor.execute(create_table_query)\n",
    "    conn.commit()\n",
    "    print(\"Table 'spongebob_model_metrics' created successfully.\")\n",
    "except Exception as e:\n",
    "    print(f\"Failed to create table: {e}\")\n",
    "    conn.rollback()\n",
    "finally:\n",
    "    if cursor:\n",
    "        cursor.close()\n",
    "    if conn:\n",
    "        conn.close()\n",
    "    print(\"PostgreSQL connection closed.\")"
   ]
  },
  {
   "cell_type": "code",
   "execution_count": null,
   "id": "4c9431e5-db63-4e5e-8ed6-1fac2c0c9fee",
   "metadata": {},
   "outputs": [],
   "source": []
  }
 ],
 "metadata": {
  "kernelspec": {
   "display_name": "Python 3 (ipykernel)",
   "language": "python",
   "name": "python3"
  },
  "language_info": {
   "codemirror_mode": {
    "name": "ipython",
    "version": 3
   },
   "file_extension": ".py",
   "mimetype": "text/x-python",
   "name": "python",
   "nbconvert_exporter": "python",
   "pygments_lexer": "ipython3",
   "version": "3.9.10"
  }
 },
 "nbformat": 4,
 "nbformat_minor": 5
}
