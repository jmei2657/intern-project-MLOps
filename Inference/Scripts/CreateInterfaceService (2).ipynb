{
 "cells": [
  {
   "cell_type": "code",
   "execution_count": 1,
   "id": "94f182cd-ed13-4f06-9ec1-3c32ebd22d1d",
   "metadata": {},
   "outputs": [],
   "source": [
    "from kubernetes import client \n",
    "from kserve import KServeClient\n",
    "from kserve import constants\n",
    "from kserve import utils\n",
    "from kserve import V1beta1InferenceService\n",
    "from kserve import V1beta1InferenceServiceSpec\n",
    "from kserve import V1beta1PredictorSpec\n",
    "from kserve import V1beta1SKLearnSpec"
   ]
  },
  {
   "cell_type": "code",
   "execution_count": 2,
   "id": "9a635267-5531-4cb0-983f-5b6c125507e2",
   "metadata": {},
   "outputs": [],
   "source": [
    "name = \"lrc\"\n",
    "namespace = utils.get_default_target_namespace()\n",
    "kserve_version='v1beta1'\n",
    "api_version = constants.KSERVE_GROUP + '/' + kserve_version\n",
    "isvc2 = V1beta1InferenceService(\n",
    "    api_version=api_version,\n",
    "    kind=constants.KSERVE_KIND,\n",
    "    metadata=client.V1ObjectMeta(\n",
    "        name=name,\n",
    "        namespace=namespace,\n",
    "        annotations={'sidecar.istio.io/inject': 'false'}\n",
    "    ),\n",
    "    spec=V1beta1InferenceServiceSpec(\n",
    "        predictor=V1beta1PredictorSpec(\n",
    "            service_account_name=\"s3-service-account\",\n",
    "            sklearn=V1beta1SKLearnSpec(\n",
    "                storage_uri=\"s3://mlpipelineews/version1/lrc/model.pkl\"\n",
    "            )\n",
    "        )\n",
    "    )\n",
    ")\n"
   ]
  },
  {
   "cell_type": "code",
   "execution_count": 3,
   "id": "5f62e55c-3103-4a19-804f-b4be3e532dc6",
   "metadata": {},
   "outputs": [
    {
     "data": {
      "text/plain": [
       "{'apiVersion': 'serving.kserve.io/v1beta1',\n",
       " 'kind': 'InferenceService',\n",
       " 'metadata': {'annotations': {'sidecar.istio.io/inject': 'false'},\n",
       "  'creationTimestamp': '2024-07-10T15:50:38Z',\n",
       "  'generation': 1,\n",
       "  'managedFields': [{'apiVersion': 'serving.kserve.io/v1beta1',\n",
       "    'fieldsType': 'FieldsV1',\n",
       "    'fieldsV1': {'f:metadata': {'f:annotations': {'.': {},\n",
       "       'f:sidecar.istio.io/inject': {}}},\n",
       "     'f:spec': {'.': {},\n",
       "      'f:predictor': {'.': {},\n",
       "       'f:serviceAccountName': {},\n",
       "       'f:sklearn': {'.': {}, 'f:name': {}, 'f:storageUri': {}}}}},\n",
       "    'manager': 'OpenAPI-Generator',\n",
       "    'operation': 'Update',\n",
       "    'time': '2024-07-10T15:50:36Z'}],\n",
       "  'name': 'lrc',\n",
       "  'namespace': 'kubeflow-user-example-com',\n",
       "  'resourceVersion': '4968489',\n",
       "  'uid': 'def9a850-3278-4096-8913-cb692128571d'},\n",
       " 'spec': {'predictor': {'model': {'modelFormat': {'name': 'sklearn'},\n",
       "    'name': '',\n",
       "    'protocolVersion': 'v1',\n",
       "    'resources': {},\n",
       "    'runtime': 'kserve-sklearnserver',\n",
       "    'storageUri': 's3://mlpipelineews/version1/lrc/model.pkl'},\n",
       "   'serviceAccountName': 's3-service-account'}}}"
      ]
     },
     "execution_count": 3,
     "metadata": {},
     "output_type": "execute_result"
    }
   ],
   "source": [
    "KServe = KServeClient()\n",
    "KServe.create(isvc2)"
   ]
  },
  {
   "cell_type": "code",
   "execution_count": 3,
   "id": "4b2a4b2e-34a2-4fa3-bb0a-9e0fd1e05451",
   "metadata": {},
   "outputs": [
    {
     "name": "stdout",
     "output_type": "stream",
     "text": [
      "{'apiVersion': 'serving.kserve.io/v1beta1', 'kind': 'InferenceService', 'metadata': {'annotations': {'sidecar.istio.io/inject': 'false'}, 'creationTimestamp': '2024-07-12T18:09:46Z', 'finalizers': ['inferenceservice.finalizers'], 'generation': 1, 'managedFields': [{'apiVersion': 'serving.kserve.io/v1beta1', 'fieldsType': 'FieldsV1', 'fieldsV1': {'f:metadata': {'f:annotations': {'.': {}, 'f:sidecar.istio.io/inject': {}}}, 'f:spec': {'.': {}, 'f:predictor': {'.': {}, 'f:serviceAccountName': {}, 'f:sklearn': {'.': {}, 'f:name': {}, 'f:storageUri': {}}}}}, 'manager': 'OpenAPI-Generator', 'operation': 'Update', 'time': '2024-07-12T18:09:44Z'}, {'apiVersion': 'serving.kserve.io/v1beta1', 'fieldsType': 'FieldsV1', 'fieldsV1': {'f:metadata': {'f:finalizers': {'.': {}, 'v:\"inferenceservice.finalizers\"': {}}}}, 'manager': 'manager', 'operation': 'Update', 'time': '2024-07-12T18:09:46Z'}, {'apiVersion': 'serving.kserve.io/v1beta1', 'fieldsType': 'FieldsV1', 'fieldsV1': {'f:status': {'.': {}, 'f:address': {'.': {}, 'f:url': {}}, 'f:components': {'.': {}, 'f:predictor': {'.': {}, 'f:address': {'.': {}, 'f:url': {}}, 'f:latestCreatedRevision': {}, 'f:latestReadyRevision': {}, 'f:latestRolledoutRevision': {}, 'f:traffic': {}, 'f:url': {}}}, 'f:conditions': {}, 'f:url': {}}}, 'manager': 'manager', 'operation': 'Update', 'subresource': 'status', 'time': '2024-07-12T18:09:56Z'}], 'name': 'rfc-version1', 'namespace': 'kubeflow-user-example-com', 'resourceVersion': '5861106', 'uid': '5a06b64e-b9e1-492e-b55d-b44bf5b681da'}, 'spec': {'predictor': {'model': {'modelFormat': {'name': 'sklearn'}, 'name': '', 'protocolVersion': 'v1', 'resources': {}, 'runtime': 'kserve-sklearnserver', 'storageUri': 's3://mlpipelineews/version1/rfc/model.pkl'}, 'serviceAccountName': 's3-service-account'}}, 'status': {'address': {'url': 'http://rfc-version1.kubeflow-user-example-com.svc.cluster.local/v1/models/rfc-version1:predict'}, 'components': {'predictor': {'address': {'url': 'http://rfc-version1-predictor-default.kubeflow-user-example-com.svc.cluster.local'}, 'latestCreatedRevision': 'rfc-version1-predictor-default-00001', 'latestReadyRevision': 'rfc-version1-predictor-default-00001', 'latestRolledoutRevision': 'rfc-version1-predictor-default-00001', 'traffic': [{'latestRevision': True, 'percent': 100, 'revisionName': 'rfc-version1-predictor-default-00001'}], 'url': 'http://rfc-version1-predictor-default.kubeflow-user-example-com.example.com'}}, 'conditions': [{'lastTransitionTime': '2024-07-12T18:09:56Z', 'status': 'True', 'type': 'IngressReady'}, {'lastTransitionTime': '2024-07-12T18:09:56Z', 'severity': 'Info', 'status': 'True', 'type': 'PredictorConfigurationReady'}, {'lastTransitionTime': '2024-07-12T18:09:56Z', 'status': 'True', 'type': 'PredictorReady'}, {'lastTransitionTime': '2024-07-12T18:09:56Z', 'severity': 'Info', 'status': 'True', 'type': 'PredictorRouteReady'}, {'lastTransitionTime': '2024-07-12T18:09:56Z', 'status': 'True', 'type': 'Ready'}], 'url': 'http://rfc-version1.kubeflow-user-example-com.example.com'}}\n"
     ]
    }
   ],
   "source": [
    "KServe = KServeClient()\n",
    "\n",
    "import requests\n",
    "\n",
    "namespace = utils.get_default_target_namespace()\n",
    "\n",
    "\n",
    "isvc_status = KServe.get(\"rfc-version1\", namespace=namespace)\n",
    "print(isvc_status)"
   ]
  },
  {
   "cell_type": "code",
   "execution_count": 12,
   "id": "2dc8a043-b575-445d-9fde-cfd5db847b0f",
   "metadata": {},
   "outputs": [
    {
     "name": "stdout",
     "output_type": "stream",
     "text": [
      "Model endpoint: http://lrc.kubeflow-user-example-com.svc.cluster.local/v1/models/lrc:predict\n"
     ]
    }
   ],
   "source": [
    "try:\n",
    "    model_endpoint = isvc_status['status']['address']['url']\n",
    "    print(f\"Model endpoint: {model_endpoint}\")\n",
    "except KeyError:\n",
    "    print(\"Error: Unable to retrieve the model endpoint.\")"
   ]
  },
  {
   "cell_type": "code",
   "execution_count": 2,
   "id": "22f7a722-ee68-4db0-8a6f-fd6ba31433bb",
   "metadata": {},
   "outputs": [
    {
     "data": {
      "text/plain": [
       "{'apiVersion': 'serving.kserve.io/v1beta1',\n",
       " 'kind': 'InferenceService',\n",
       " 'metadata': {'annotations': {'sidecar.istio.io/inject': 'false'},\n",
       "  'creationTimestamp': '2024-07-12T18:03:19Z',\n",
       "  'deletionGracePeriodSeconds': 0,\n",
       "  'deletionTimestamp': '2024-07-12T18:08:34Z',\n",
       "  'finalizers': ['inferenceservice.finalizers'],\n",
       "  'generation': 2,\n",
       "  'managedFields': [{'apiVersion': 'serving.kserve.io/v1beta1',\n",
       "    'fieldsType': 'FieldsV1',\n",
       "    'fieldsV1': {'f:metadata': {'f:annotations': {'.': {},\n",
       "       'f:sidecar.istio.io/inject': {}}},\n",
       "     'f:spec': {'.': {},\n",
       "      'f:predictor': {'.': {},\n",
       "       'f:serviceAccountName': {},\n",
       "       'f:sklearn': {'.': {}, 'f:name': {}, 'f:storageUri': {}}}}},\n",
       "    'manager': 'OpenAPI-Generator',\n",
       "    'operation': 'Update',\n",
       "    'time': '2024-07-12T18:03:17Z'},\n",
       "   {'apiVersion': 'serving.kserve.io/v1beta1',\n",
       "    'fieldsType': 'FieldsV1',\n",
       "    'fieldsV1': {'f:metadata': {'f:finalizers': {'.': {},\n",
       "       'v:\"inferenceservice.finalizers\"': {}}}},\n",
       "    'manager': 'manager',\n",
       "    'operation': 'Update',\n",
       "    'time': '2024-07-12T18:03:19Z'},\n",
       "   {'apiVersion': 'serving.kserve.io/v1beta1',\n",
       "    'fieldsType': 'FieldsV1',\n",
       "    'fieldsV1': {'f:status': {'.': {},\n",
       "      'f:address': {'.': {}, 'f:url': {}},\n",
       "      'f:components': {'.': {},\n",
       "       'f:predictor': {'.': {},\n",
       "        'f:address': {'.': {}, 'f:url': {}},\n",
       "        'f:latestCreatedRevision': {},\n",
       "        'f:latestReadyRevision': {},\n",
       "        'f:latestRolledoutRevision': {},\n",
       "        'f:traffic': {},\n",
       "        'f:url': {}}},\n",
       "      'f:conditions': {},\n",
       "      'f:url': {}}},\n",
       "    'manager': 'manager',\n",
       "    'operation': 'Update',\n",
       "    'subresource': 'status',\n",
       "    'time': '2024-07-12T18:03:30Z'}],\n",
       "  'name': 'rfc-version1',\n",
       "  'namespace': 'kubeflow-user-example-com',\n",
       "  'resourceVersion': '5860192',\n",
       "  'uid': 'd2ed76e7-d713-46a5-aa88-ecce79f6590a'},\n",
       " 'spec': {'predictor': {'model': {'modelFormat': {'name': 'sklearn'},\n",
       "    'name': '',\n",
       "    'protocolVersion': 'v1',\n",
       "    'resources': {},\n",
       "    'runtime': 'kserve-sklearnserver',\n",
       "    'storageUri': 's3://mlpipelineews/version1/rfc/model.pkl'},\n",
       "   'serviceAccountName': 's3-service-account'}},\n",
       " 'status': {'address': {'url': 'http://rfc-version1.kubeflow-user-example-com.svc.cluster.local/v1/models/rfc-version1:predict'},\n",
       "  'components': {'predictor': {'address': {'url': 'http://rfc-version1-predictor-default.kubeflow-user-example-com.svc.cluster.local'},\n",
       "    'latestCreatedRevision': 'rfc-version1-predictor-default-00001',\n",
       "    'latestReadyRevision': 'rfc-version1-predictor-default-00001',\n",
       "    'latestRolledoutRevision': 'rfc-version1-predictor-default-00001',\n",
       "    'traffic': [{'latestRevision': True,\n",
       "      'percent': 100,\n",
       "      'revisionName': 'rfc-version1-predictor-default-00001'}],\n",
       "    'url': 'http://rfc-version1-predictor-default.kubeflow-user-example-com.example.com'}},\n",
       "  'conditions': [{'lastTransitionTime': '2024-07-12T18:03:30Z',\n",
       "    'status': 'True',\n",
       "    'type': 'IngressReady'},\n",
       "   {'lastTransitionTime': '2024-07-12T18:03:30Z',\n",
       "    'severity': 'Info',\n",
       "    'status': 'True',\n",
       "    'type': 'PredictorConfigurationReady'},\n",
       "   {'lastTransitionTime': '2024-07-12T18:03:30Z',\n",
       "    'status': 'True',\n",
       "    'type': 'PredictorReady'},\n",
       "   {'lastTransitionTime': '2024-07-12T18:03:30Z',\n",
       "    'severity': 'Info',\n",
       "    'status': 'True',\n",
       "    'type': 'PredictorRouteReady'},\n",
       "   {'lastTransitionTime': '2024-07-12T18:03:30Z',\n",
       "    'status': 'True',\n",
       "    'type': 'Ready'}],\n",
       "  'url': 'http://rfc-version1.kubeflow-user-example-com.example.com'}}"
      ]
     },
     "execution_count": 2,
     "metadata": {},
     "output_type": "execute_result"
    }
   ],
   "source": [
    "name = \"rfc-version1\"\n",
    "namespace = utils.get_default_target_namespace()\n",
    "\n",
    "# Initialize the KServe client\n",
    "KServe = KServeClient()\n",
    "\n",
    "# Delete the inference service\n",
    "KServe.delete(name, namespace)"
   ]
  },
  {
   "cell_type": "code",
   "execution_count": null,
   "id": "713f40b7-5193-444c-aa71-11f2adb3b758",
   "metadata": {},
   "outputs": [],
   "source": [
    "# steps: \n",
    "#1. rename the old model to its original name (by cp then delete)\n",
    "#2. rename the new model to mode (by cp and delete)"
   ]
  },
  {
   "cell_type": "code",
   "execution_count": null,
   "id": "73a5bc2b-46b2-44aa-8292-039246f49c60",
   "metadata": {},
   "outputs": [],
   "source": [
    "import boto3\n",
    "\n",
    "\n",
    "s3 = boto3.client('s3')\n",
    "\n",
    "# Define the bucket name, original object key, and new object key\n",
    "bucket_name = '*'\n",
    "original_key = '*'\n",
    "new_key = '*'\n",
    "\n",
    "# Copy the object\n",
    "s3.copy_object(\n",
    "    Bucket=bucket_name,\n",
    "    CopySource={'Bucket': bucket_name, 'Key': original_key},\n",
    "    Key=new_key\n",
    "    \n",
    ")\n",
    "\n",
    "# Delete the original object\n",
    "s3.delete_object(Bucket=bucket_name, Key=original_key)\n",
    "\n",
    "print(f\"Object renamed from {original_key} to {new_key}\")"
   ]
  },
  {
   "cell_type": "code",
   "execution_count": null,
   "id": "ae10de68-4242-4ee9-9cb4-06e9ae3c0f3f",
   "metadata": {},
   "outputs": [],
   "source": [
    "name = \"test\"\n",
    "namespace = utils.get_default_target_namespace()\n",
    "\n",
    "# Initialize the KServe client\n",
    "KServe = KServeClient()\n",
    "\n",
    "# Delete the inference service\n",
    "KServe.delete(name, namespace)\n"
   ]
  }
 ],
 "metadata": {
  "kernelspec": {
   "display_name": "Python 3 (ipykernel)",
   "language": "python",
   "name": "python3"
  },
  "language_info": {
   "codemirror_mode": {
    "name": "ipython",
    "version": 3
   },
   "file_extension": ".py",
   "mimetype": "text/x-python",
   "name": "python",
   "nbconvert_exporter": "python",
   "pygments_lexer": "ipython3",
   "version": "3.9.10"
  }
 },
 "nbformat": 4,
 "nbformat_minor": 5
}
