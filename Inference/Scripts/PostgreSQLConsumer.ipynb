{
 "cells": [
  {
   "cell_type": "code",
   "execution_count": null,
   "id": "b03e6fbf-0466-4ac5-bfeb-1139cf83a397",
   "metadata": {},
   "outputs": [],
   "source": [
    "!pip install pandas \n",
    "!pip install psycopg2-binary\n",
    "!pip install sqlalchemy"
   ]
  },
  {
   "cell_type": "code",
   "execution_count": 1,
   "id": "746071e7-706c-42bb-87b4-25d28f974281",
   "metadata": {},
   "outputs": [
    {
     "name": "stdout",
     "output_type": "stream",
     "text": [
      "Connected to PostgreSQL successfully.\n",
      "Starting to consume messages.\n",
      "Received message: {'SizeOfOptionalHeader': '-0.36050749977742014', 'MinorLinkerVersion': '-0.37628545401339736', 'SizeOfCode': '0.7319818837332536', 'SizeOfInitializedData': '-0.21890447616440128', 'SizeOfUninitializedData': '-0.12754141233745858', 'BaseOfCode': '-0.10815786799743762', 'BaseOfData': '0.8442979845835227', 'ImageBase': '-0.014265954069590235', 'SectionAlignment': '-0.02785883454533931', 'MajorOperatingSystemVersion': '-3.783301043371495', 'MinorImageVersion': '-0.08601248526438687', 'MajorSubsystemVersion': '-8.146929400017378', 'SizeOfHeaders': '-0.19993743506016834', 'CheckSum': '-0.30014776191072096', 'Subsystem': '18.955819550476978', 'DllCharacteristics': '-1.18386423766959', 'SizeOfStackReserve': '0.36320900044581794', 'SizeOfStackCommit': '-0.18911824926091036', 'SizeOfHeapReserve': '0.1275489610136435', 'NumberOfRvaAndSizes': '-0.006541198444001456', 'SectionsNb': '1.685708547402764', 'SectionsMinEntropy': '0.7753814443163086', 'SectionsMaxEntropy': '0.2730052092310991', 'SectionMaxRawsize': '0.11133533433969081', 'SectionsMinVirtualsize': '-0.3451565790953371', 'SectionMaxVirtualsize': '0.3088346950501273', 'ImportsNb': '-1.9127812586378552', 'ImportsNbOrdinal': '-0.386936283026008', 'ExportNb': '-0.24618753485710412', 'ResourcesNb': '-0.36406736962345426', 'ResourcesMinEntropy': '0.23496484147312388', 'ResourcesMaxEntropy': '-1.0764797305299745', 'ResourcesMinSize': '0.0204044027827606', 'ResourcesMaxSize': '-0.07738580403779662', 'LoadConfigurationSize': '-0.027152620679605298', 'VersionInformationSize': '0.5424616990217888', 'uid': '0181a56a-8c80-42e3-9a16-8ab4cd4bc690', 'datatype': 2}\n",
      "Data inserted successfully\n",
      "Received message: {'SizeOfOptionalHeader': '-0.36050749977742014', 'MinorLinkerVersion': '-0.37628545401339736', 'SizeOfCode': '0.052683490002428626', 'SizeOfInitializedData': '-0.6177297309336889', 'SizeOfUninitializedData': '-0.12754141233745858', 'BaseOfCode': '-0.10815786799743762', 'BaseOfData': '0.1775706814624997', 'ImageBase': '-0.013153424929036806', 'SectionAlignment': '-0.02785883454533931', 'MajorOperatingSystemVersion': '0.09219227940541337', 'MinorImageVersion': '-0.08601248526438687', 'MajorSubsystemVersion': '0.24455526923166146', 'SizeOfHeaders': '-0.19993743506016834', 'CheckSum': '-0.3209139664552414', 'Subsystem': '-0.36222252198195687', 'DllCharacteristics': '0.6972222920691269', 'SizeOfStackReserve': '0.36320900044581794', 'SizeOfStackCommit': '-0.18911824926091036', 'SizeOfHeapReserve': '0.1275489610136435', 'NumberOfRvaAndSizes': '-0.006541198444001456', 'SectionsNb': '-0.550431356824648', 'SectionsMinEntropy': '0.3558774663102176', 'SectionsMaxEntropy': '-0.3164581452393003', 'SectionMaxRawsize': '-0.2184957432833888', 'SectionsMinVirtualsize': '-0.24182651616064144', 'SectionMaxVirtualsize': '-0.37863484888255466', 'ImportsNb': '0.816199121464104', 'ImportsNbOrdinal': '-0.386936283026008', 'ExportNb': '-0.24618753485710412', 'ResourcesNb': '-0.5363174107628034', 'ResourcesMinEntropy': '0.9079938671062746', 'ResourcesMaxEntropy': '-0.15138879113755602', 'ResourcesMinSize': '0.08043671754100909', 'ResourcesMaxSize': '-0.29238465542570763', 'LoadConfigurationSize': '-0.014713683921922245', 'VersionInformationSize': '0.689508828920145', 'uid': 'e8567e15-513d-4e8e-a975-42dba1eed214', 'datatype': 2}\n",
      "Data inserted successfully\n",
      "Received message: {'SizeOfOptionalHeader': '-0.36050749977742014', 'MinorLinkerVersion': '-0.37628545401339736', 'SizeOfCode': '1.063997476229658', 'SizeOfInitializedData': '0.6800649771322324', 'SizeOfUninitializedData': '-0.12754141233745858', 'BaseOfCode': '-0.10815786799743762', 'BaseOfData': '1.6782066975173455', 'ImageBase': '-0.013153424929036806', 'SectionAlignment': '-0.02785883454533931', 'MajorOperatingSystemVersion': '0.09219227940541337', 'MinorImageVersion': '-0.08601248526438687', 'MajorSubsystemVersion': '0.24455526923166146', 'SizeOfHeaders': '-0.19993743506016834', 'CheckSum': '-0.2700810278037317', 'Subsystem': '-0.36222252198195687', 'DllCharacteristics': '0.6883747788200754', 'SizeOfStackReserve': '0.36320900044581794', 'SizeOfStackCommit': '-0.18911824926091036', 'SizeOfHeapReserve': '0.1275489610136435', 'NumberOfRvaAndSizes': '-0.006541198444001456', 'SectionsNb': '-0.550431356824648', 'SectionsMinEntropy': '1.1390115636410802', 'SectionsMaxEntropy': '0.6031247743400341', 'SectionMaxRawsize': '0.34650323674601974', 'SectionsMinVirtualsize': '0.5839191499484678', 'SectionMaxVirtualsize': '0.26562337839772926', 'ImportsNb': '1.1967509315963867', 'ImportsNbOrdinal': '1.9721422905407866', 'ExportNb': '-0.034528021589986024', 'ResourcesNb': '0.023085114176877836', 'ResourcesMinEntropy': '0.46510668058447896', 'ResourcesMaxEntropy': '-0.0469256332553571', 'ResourcesMinSize': '-0.013093084102890735', 'ResourcesMaxSize': '0.7495086431239923', 'LoadConfigurationSize': '-0.014713683921922245', 'VersionInformationSize': '0.689508828920145', 'uid': '6cb7751b-f34c-4f92-aea4-82ebcfc1bc8c', 'datatype': 2}\n",
      "Data inserted successfully\n",
      "Received message: {'SizeOfOptionalHeader': '-0.36050749977742014', 'MinorLinkerVersion': '-0.37628545401339736', 'SizeOfCode': '1.1946394287286264', 'SizeOfInitializedData': '0.3174195309376477', 'SizeOfUninitializedData': '-0.12754141233745858', 'BaseOfCode': '-0.10815786799743762', 'BaseOfData': '1.6585162482478013', 'ImageBase': '-0.013153424929036806', 'SectionAlignment': '-0.02785883454533931', 'MajorOperatingSystemVersion': '0.09219227940541337', 'MinorImageVersion': '-0.08601248526438687', 'MajorSubsystemVersion': '0.24455526923166146', 'SizeOfHeaders': '-0.19993743506016834', 'CheckSum': '-0.2815977717231001', 'Subsystem': '-0.36222252198195687', 'DllCharacteristics': '0.6972222920691269', 'SizeOfStackReserve': '0.36320900044581794', 'SizeOfStackCommit': '-0.18911824926091036', 'SizeOfHeapReserve': '0.1275489610136435', 'NumberOfRvaAndSizes': '-0.006541198444001456', 'SectionsNb': '-0.550431356824648', 'SectionsMinEntropy': '1.3321707554081132', 'SectionsMaxEntropy': '0.5979520230856373', 'SectionMaxRawsize': '0.4194900350264726', 'SectionsMinVirtualsize': '0.3993088156772878', 'SectionMaxVirtualsize': '0.34899052858195756', 'ImportsNb': '1.9359038216820297', 'ImportsNbOrdinal': '0.8740442556548962', 'ExportNb': '-0.034528021589986024', 'ResourcesNb': '-0.02230053802797562', 'ResourcesMinEntropy': '0.31962989502990014', 'ResourcesMaxEntropy': '0.5332569626111019', 'ResourcesMinSize': '-0.01838851592903624', 'ResourcesMaxSize': '-0.22528158791419856', 'LoadConfigurationSize': '-0.014713683921922245', 'VersionInformationSize': '0.689508828920145', 'uid': 'e77848bf-3d80-4e5b-9e37-e35d25161583', 'datatype': 2}\n",
      "Data inserted successfully\n",
      "Received message: {'SizeOfOptionalHeader': '-0.36050749977742014', 'MinorLinkerVersion': '-0.37628545401339736', 'SizeOfCode': '0.5663604786351091', 'SizeOfInitializedData': '0.09622233564283873', 'SizeOfUninitializedData': '-0.12754141233745858', 'BaseOfCode': '-0.10815786799743762', 'BaseOfData': '1.1950460254310342', 'ImageBase': '-0.013153424929036806', 'SectionAlignment': '-0.02785883454533931', 'MajorOperatingSystemVersion': '0.09219227940541337', 'MinorImageVersion': '-0.08601248526438687', 'MajorSubsystemVersion': '0.24455526923166146', 'SizeOfHeaders': '-0.19993743506016834', 'CheckSum': '-0.2950782487567185', 'Subsystem': '-0.36222252198195687', 'DllCharacteristics': '0.6972222920691269', 'SizeOfStackReserve': '0.36320900044581794', 'SizeOfStackCommit': '-0.18911824926091036', 'SizeOfHeapReserve': '0.1275489610136435', 'NumberOfRvaAndSizes': '-0.006541198444001456', 'SectionsNb': '-0.550431356824648', 'SectionsMinEntropy': '0.9458261776814767', 'SectionsMaxEntropy': '0.6094272837460144', 'SectionMaxRawsize': '0.06848434261926203', 'SectionsMinVirtualsize': '-0.19980594897741555', 'SectionMaxVirtualsize': '-0.05100305013841528', 'ImportsNb': '0.9125019663044368', 'ImportsNbOrdinal': '0.6426500154233525', 'ExportNb': '-0.034528021589986024', 'ResourcesNb': '-0.5363174107628034', 'ResourcesMinEntropy': '0.9086230985212523', 'ResourcesMaxEntropy': '-0.09095849437701217', 'ResourcesMinSize': '0.1279253712517139', 'ResourcesMaxSize': '-0.2879778104404768', 'LoadConfigurationSize': '-0.014713683921922245', 'VersionInformationSize': '0.689508828920145', 'uid': 'd5f2a6c6-7c85-47cc-9ff0-2dafd2bf4090', 'datatype': 2}\n",
      "Data inserted successfully\n",
      "Consumer interrupted.\n",
      "PostgreSQL connection closed.\n"
     ]
    }
   ],
   "source": [
    "import json\n",
    "from kafka import KafkaConsumer\n",
    "import psycopg2\n",
    "from psycopg2.extras import execute_values\n",
    "\n",
    "# PostgreSQL database connection details\n",
    "db_config = {\n",
    "    'dbname': '*',\n",
    "    'user': '*',\n",
    "    'password': '*',\n",
    "    'host': '*',\n",
    "    'port': 5432\n",
    "}\n",
    "\n",
    "# Kafka topic\n",
    "postgres_topic = \"postgresql\"\n",
    "brokers = [\"*:9092\"]\n",
    "\n",
    "# Create a Kafka consumer\n",
    "consumer = KafkaConsumer(\n",
    "    postgres_topic,\n",
    "    bootstrap_servers=brokers,\n",
    "    value_deserializer=lambda message: json.loads(message.decode('utf-8'))\n",
    ")\n",
    "\n",
    "# Connect to PostgreSQL\n",
    "try:\n",
    "    conn = psycopg2.connect(**db_config)\n",
    "    cursor = conn.cursor()\n",
    "    print(\"Connected to PostgreSQL successfully.\")\n",
    "except Exception as e:\n",
    "    print(f\"Failed to connect to PostgreSQL: {e}\")\n",
    "    exit()\n",
    "\n",
    "try:\n",
    "    print(\"Starting to consume messages.\")\n",
    "    for message in consumer:\n",
    "        data = message.value\n",
    "        data['datatype'] = 2\n",
    "        print(f\"Received message: {data}\")\n",
    "        # Insert data into PostgreSQL\n",
    "        try:\n",
    "            columns = data.keys()\n",
    "            values = [tuple(data.values())]\n",
    "            insert_query = f\"INSERT INTO malware_data ({', '.join(columns)}) VALUES %s\"\n",
    "            execute_values(cursor, insert_query, values)\n",
    "            conn.commit()\n",
    "            print(\"Data inserted successfully\")\n",
    "        except Exception as e:\n",
    "            print(f\"Failed to insert data: {e}\")\n",
    "            conn.rollback()\n",
    "except KeyboardInterrupt:\n",
    "    print(\"Consumer interrupted.\")\n",
    "finally:\n",
    "    # Close PostgreSQL connection\n",
    "    if cursor:\n",
    "        cursor.close()\n",
    "    if conn:\n",
    "        conn.close()\n",
    "        print(\"PostgreSQL connection closed.\")\n"
   ]
  },
  {
   "cell_type": "code",
   "execution_count": null,
   "id": "a0eee56d-7d29-4f38-bb4c-874347bee314",
   "metadata": {},
   "outputs": [],
   "source": []
  }
 ],
 "metadata": {
  "kernelspec": {
   "display_name": "Python 3 (ipykernel)",
   "language": "python",
   "name": "python3"
  },
  "language_info": {
   "codemirror_mode": {
    "name": "ipython",
    "version": 3
   },
   "file_extension": ".py",
   "mimetype": "text/x-python",
   "name": "python",
   "nbconvert_exporter": "python",
   "pygments_lexer": "ipython3",
   "version": "3.9.10"
  }
 },
 "nbformat": 4,
 "nbformat_minor": 5
}
