{
 "cells": [
  {
   "cell_type": "code",
   "execution_count": 1,
   "id": "89a49ad2-f59a-4b8e-915a-9d748035875d",
   "metadata": {},
   "outputs": [
    {
     "name": "stdout",
     "output_type": "stream",
     "text": [
      "Requirement already satisfied: pandas in /usr/local/lib/python3.9/site-packages (1.4.3)\n",
      "Requirement already satisfied: pytz>=2020.1 in /usr/local/lib/python3.9/site-packages (from pandas) (2022.4)\n",
      "Requirement already satisfied: python-dateutil>=2.8.1 in /usr/local/lib/python3.9/site-packages (from pandas) (2.8.2)\n",
      "Requirement already satisfied: numpy>=1.18.5 in /usr/local/lib/python3.9/site-packages (from pandas) (1.21.6)\n",
      "Requirement already satisfied: six>=1.5 in /usr/local/lib/python3.9/site-packages (from python-dateutil>=2.8.1->pandas) (1.16.0)\n",
      "\n",
      "\u001b[1m[\u001b[0m\u001b[34;49mnotice\u001b[0m\u001b[1;39;49m]\u001b[0m\u001b[39;49m A new release of pip available: \u001b[0m\u001b[31;49m22.2.2\u001b[0m\u001b[39;49m -> \u001b[0m\u001b[32;49m24.1.1\u001b[0m\n",
      "\u001b[1m[\u001b[0m\u001b[34;49mnotice\u001b[0m\u001b[1;39;49m]\u001b[0m\u001b[39;49m To update, run: \u001b[0m\u001b[32;49mpip install --upgrade pip\u001b[0m\n",
      "Requirement already satisfied: psycopg2-binary in /usr/local/lib/python3.9/site-packages (2.9.9)\n",
      "\n",
      "\u001b[1m[\u001b[0m\u001b[34;49mnotice\u001b[0m\u001b[1;39;49m]\u001b[0m\u001b[39;49m A new release of pip available: \u001b[0m\u001b[31;49m22.2.2\u001b[0m\u001b[39;49m -> \u001b[0m\u001b[32;49m24.1.1\u001b[0m\n",
      "\u001b[1m[\u001b[0m\u001b[34;49mnotice\u001b[0m\u001b[1;39;49m]\u001b[0m\u001b[39;49m To update, run: \u001b[0m\u001b[32;49mpip install --upgrade pip\u001b[0m\n"
     ]
    }
   ],
   "source": [
    "!pip install pandas \n",
    "!pip install psycopg2-binary"
   ]
  },
  {
   "cell_type": "code",
   "execution_count": 2,
   "id": "f200544a-796f-4f15-a102-404963f45439",
   "metadata": {},
   "outputs": [
    {
     "name": "stdout",
     "output_type": "stream",
     "text": [
      "Collecting kafka-python\n",
      "  Using cached kafka_python-2.0.2-py2.py3-none-any.whl (246 kB)\n",
      "Installing collected packages: kafka-python\n",
      "Successfully installed kafka-python-2.0.2\n",
      "\n",
      "\u001b[1m[\u001b[0m\u001b[34;49mnotice\u001b[0m\u001b[1;39;49m]\u001b[0m\u001b[39;49m A new release of pip available: \u001b[0m\u001b[31;49m22.2.2\u001b[0m\u001b[39;49m -> \u001b[0m\u001b[32;49m24.1.1\u001b[0m\n",
      "\u001b[1m[\u001b[0m\u001b[34;49mnotice\u001b[0m\u001b[1;39;49m]\u001b[0m\u001b[39;49m To update, run: \u001b[0m\u001b[32;49mpip install --upgrade pip\u001b[0m\n"
     ]
    }
   ],
   "source": [
    "!pip install kafka-python"
   ]
  },
  {
   "cell_type": "code",
   "execution_count": 9,
   "id": "5c97163e-3a70-4ca4-afa8-0279461c368b",
   "metadata": {},
   "outputs": [
    {
     "name": "stdout",
     "output_type": "stream",
     "text": [
      "Collecting sqlalchemy\n",
      "  Using cached SQLAlchemy-2.0.31-cp39-cp39-manylinux_2_17_x86_64.manylinux2014_x86_64.whl (3.1 MB)\n",
      "Requirement already satisfied: greenlet!=0.4.17 in /usr/local/lib/python3.9/site-packages (from sqlalchemy) (3.0.3)\n",
      "Requirement already satisfied: typing-extensions>=4.6.0 in /usr/local/lib/python3.9/site-packages (from sqlalchemy) (4.12.2)\n",
      "Installing collected packages: sqlalchemy\n",
      "Successfully installed sqlalchemy-2.0.31\n",
      "\n",
      "\u001b[1m[\u001b[0m\u001b[34;49mnotice\u001b[0m\u001b[1;39;49m]\u001b[0m\u001b[39;49m A new release of pip available: \u001b[0m\u001b[31;49m22.2.2\u001b[0m\u001b[39;49m -> \u001b[0m\u001b[32;49m24.1.1\u001b[0m\n",
      "\u001b[1m[\u001b[0m\u001b[34;49mnotice\u001b[0m\u001b[1;39;49m]\u001b[0m\u001b[39;49m To update, run: \u001b[0m\u001b[32;49mpip install --upgrade pip\u001b[0m\n"
     ]
    }
   ],
   "source": [
    "!pip install sqlalchemy"
   ]
  },
  {
   "cell_type": "code",
   "execution_count": 1,
   "id": "5e1b68a8-9819-4c77-b0f5-ac046796a43f",
   "metadata": {},
   "outputs": [],
   "source": [
    "import logging\n",
    "import requests\n",
    "import pandas as pd\n",
    "from kafka import KafkaProducer\n",
    "import json\n",
    "import psycopg2\n",
    "from sqlalchemy import create_engine\n",
    "from scipy.special import boxcox\n",
    "import numpy as np\n",
    "import uuid\n",
    "# Configure logging\n",
    "logging.basicConfig(level=logging.INFO)\n",
    "logger = logging.getLogger(__name__)\n"
   ]
  },
  {
   "cell_type": "code",
   "execution_count": 2,
   "id": "bc355b0d-5ca2-4df5-8652-d19b4d40afcc",
   "metadata": {},
   "outputs": [],
   "source": [
    "def zscore_normalization(df, name):\n",
    "    mean = df[name].mean()\n",
    "    sd = df[name].std()\n",
    "\n",
    "    df[name] = (df[name] - mean) / sd\n",
    "\n",
    "def preprocess(df):\n",
    "    df = df.drop(columns=['Name', 'md5'])\n",
    "    for i in df.columns:\n",
    "        if i != 'legitimate':\n",
    "            df[i] = boxcox(df[i], 0.5)\n",
    "            zscore_normalization(df, i)\n",
    "    correlation_matrix = df.corr()\n",
    "    cols_to_drop = []\n",
    "    for i in df.columns:\n",
    "        for j in df.columns:\n",
    "            if i != j and i != 'legitimate' and j != 'legitimate' and abs(correlation_matrix[i][j]) > 0.6 and i not in cols_to_drop and j not in cols_to_drop:\n",
    "                cols_to_drop.append(i)\n",
    "    cols_to_drop = set(cols_to_drop)\n",
    "    df.drop(columns=cols_to_drop, inplace=True)\n",
    "    return df"
   ]
  },
  {
   "cell_type": "code",
   "execution_count": 3,
   "id": "d602d4ee-c378-425e-974c-d77619e6b2fa",
   "metadata": {},
   "outputs": [],
   "source": [
    "\n",
    "def postgre_preprocess(df):\n",
    "    df = df.drop(columns=['Name', 'md5'])\n",
    "    cols_to_drop = []\n",
    "    for i in df.columns:\n",
    "        for j in df.columns:\n",
    "            if i != j and i != 'legitimate' and j != 'legitimate' and abs(correlation_matrix[i][j]) > 0.6 and i not in cols_to_drop and j not in cols_to_drop:\n",
    "                cols_to_drop.append(i)\n",
    "    cols_to_drop = set(cols_to_drop)\n",
    "    df.drop(columns=cols_to_drop, inplace=True)\n",
    "    return df"
   ]
  },
  {
   "cell_type": "code",
   "execution_count": 4,
   "id": "ccbe2fa1-facd-43fe-beae-e5686feb9dbb",
   "metadata": {},
   "outputs": [],
   "source": [
    "import boto3\n",
    "from botocore.exceptions import ClientError\n",
    "import json\n",
    "\n",
    "def get_secret():\n",
    "\n",
    "    secret_name = \"DBCreds\"\n",
    "    region_name = \"us-east-1\"\n",
    "\n",
    "    # Create a Secrets Manager client\n",
    "    session = boto3.session.Session()\n",
    "    client = session.client(\n",
    "        service_name='secretsmanager',\n",
    "        region_name=region_name\n",
    "    )\n",
    "\n",
    "    try:\n",
    "        get_secret_value_response = client.get_secret_value(\n",
    "            SecretId=secret_name\n",
    "        )\n",
    "    except ClientError as e:\n",
    "        raise e\n",
    "\n",
    "    secret = get_secret_value_response['SecretString']\n",
    "    \n",
    "    # Parse the secret string to get the credentials\n",
    "    secret_dict = json.loads(secret)\n",
    "    username = secret_dict['username']\n",
    "    password = secret_dict['password']\n",
    "    host = secret_dict['host']\n",
    "    port = secret_dict['port']\n",
    "    dbname = secret_dict['dbname']\n",
    "\n",
    "    return username, password, host, port, dbname\n",
    "\n",
    "\n",
    "(user,pswd,host,port,db) = get_secret()"
   ]
  },
  {
   "cell_type": "code",
   "execution_count": null,
   "id": "a666d898-44cf-43f8-a21e-e59c0787dffe",
   "metadata": {},
   "outputs": [
    {
     "name": "stderr",
     "output_type": "stream",
     "text": [
      "INFO:root:Downloading CSV file from GitHub...\n"
     ]
    }
   ],
   "source": [
    "# Initialize logger\n",
    "logger = logging.getLogger()\n",
    "logger.setLevel(logging.INFO)\n",
    "\n",
    "# Broker address\n",
    "brokers = [f'{host}:9092']\n",
    "\n",
    "# GitHub raw URL for the CSV file\n",
    "github_url = \"https://raw.githubusercontent.com/tsimhadri-ews/internproject/malware-detection-0/src/MalwareData.csv\"\n",
    "\n",
    "# PostgreSQL database connection details\n",
    "db_config = {\n",
    "    'dbname': db,\n",
    "    'user': user,\n",
    "    'password': pswd,\n",
    "    'host': host,\n",
    "    'port': port\n",
    "}\n",
    "\n",
    "# Kafka topics\n",
    "postgres_topic = \"postgresql\"\n",
    "kserve_topic = \"three\"\n",
    "\n",
    "# Download the CSV file from GitHub\n",
    "logger.info(\"Downloading CSV file from GitHub...\")\n",
    "response = requests.get(github_url)\n",
    "\n",
    "# Check if the request was successful\n",
    "if response.status_code == 200:\n",
    "    logger.info(\"CSV file downloaded successfully.\")\n",
    "    # Read the data into a pandas DataFrame\n",
    "    df = pd.read_csv(github_url, sep='|')\n",
    "    raw_df = df\n",
    "    df = preprocess(df)\n",
    "    raw_df = raw_df[df.columns]\n",
    "    raw_df = raw_df.drop(columns=['legitimate'])\n",
    "    df = df.drop(columns=['legitimate'])\n",
    "    logger.info(\"CSV file processed successfully.\")\n",
    "else:\n",
    "    logger.error(f\"Failed to download file: {response.status_code}\")\n",
    "    exit()\n",
    "df['uid'] = [str(uuid.uuid4()) for _ in range(len(df))]\n",
    "raw_df['uid'] = [str(uuid.uuid4()) for _ in range(len(raw_df))]\n",
    "# Create Kafka producers\n",
    "logger.info(\"Creating Kafka producers...\")\n",
    "postgres_producer = KafkaProducer(\n",
    "    bootstrap_servers=brokers,\n",
    "    value_serializer=lambda message: json.dumps({k: str(v).lower() for k, v in message.items()}).encode('utf-8'),\n",
    ")\n",
    "\n",
    "kserve_producer = KafkaProducer(\n",
    "    bootstrap_servers=brokers,\n",
    "    value_serializer=lambda message: json.dumps(message).encode('utf-8'),\n",
    ")\n",
    "\n",
    "# PostgreSQL connection setup\n",
    "logger.info(\"Connecting to PostgreSQL...\")\n",
    "try:\n",
    "    engine = create_engine(f\"postgresql://{db_config['user']}:{db_config['password']}@{db_config['host']}:{db_config['port']}/{db_config['dbname']}\")\n",
    "    logger.info(\"PostgreSQL connection established successfully.\")\n",
    "except Exception as e:\n",
    "    logger.error(f\"Failed to connect to PostgreSQL: {e}\")\n",
    "    exit()\n",
    "\n",
    "# Send data to KServe and PostgreSQL\n",
    "first_5_rows = df.head(5)\n",
    "for index, row in first_5_rows.iterrows():\n",
    "    data = row.to_dict()\n",
    "    # Send to KServe topic\n",
    "    kserve_producer.send(kserve_topic, data)\n",
    "    logger.info(f\"Sent row {index + 1} to KServe Kafka topic\")\n",
    "\n",
    "kserve_producer.flush()\n",
    "kserve_producer.close()\n",
    "# Flush data and close the producers\n",
    "\n",
    "first_5_unprocess = raw_df.head(5)\n",
    "for index, row in first_5_unprocess.iterrows():\n",
    "    data = row.to_dict()\n",
    "    # Send to PostgreSQL topic\n",
    "    postgres_producer.send(postgres_topic, data)\n",
    "    logger.info(f\"Sent row {index + 1} to PostgreSQL Kafka topic\")\n",
    "# Flush data and close the producers\n",
    "postgres_producer.flush()\n",
    "postgres_producer.close()\n",
    "\n",
    "logger.info(f\"First 5 rows sent to PostgreSQL Kafka topic: {postgres_topic} and KServe Kafka topic: {kserve_topic}\")\n"
   ]
  },
  {
   "cell_type": "code",
   "execution_count": null,
   "id": "526481c5-2866-4b2c-8321-f139f155c33e",
   "metadata": {},
   "outputs": [],
   "source": []
  }
 ],
 "metadata": {
  "kernelspec": {
   "display_name": "Python 3 (ipykernel)",
   "language": "python",
   "name": "python3"
  },
  "language_info": {
   "codemirror_mode": {
    "name": "ipython",
    "version": 3
   },
   "file_extension": ".py",
   "mimetype": "text/x-python",
   "name": "python",
   "nbconvert_exporter": "python",
   "pygments_lexer": "ipython3",
   "version": "3.9.10"
  }
 },
 "nbformat": 4,
 "nbformat_minor": 5
}
