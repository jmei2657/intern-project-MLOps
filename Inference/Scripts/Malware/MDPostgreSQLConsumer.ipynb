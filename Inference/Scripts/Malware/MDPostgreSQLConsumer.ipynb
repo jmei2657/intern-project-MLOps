{
 "cells": [
  {
   "cell_type": "code",
   "execution_count": 2,
   "id": "b03e6fbf-0466-4ac5-bfeb-1139cf83a397",
   "metadata": {},
   "outputs": [
    {
     "name": "stdout",
     "output_type": "stream",
     "text": [
      "Requirement already satisfied: pandas in /usr/local/lib/python3.9/site-packages (1.4.3)\n",
      "Requirement already satisfied: numpy>=1.18.5 in /usr/local/lib/python3.9/site-packages (from pandas) (1.21.6)\n",
      "Requirement already satisfied: python-dateutil>=2.8.1 in /usr/local/lib/python3.9/site-packages (from pandas) (2.8.2)\n",
      "Requirement already satisfied: pytz>=2020.1 in /usr/local/lib/python3.9/site-packages (from pandas) (2022.4)\n",
      "Requirement already satisfied: six>=1.5 in /usr/local/lib/python3.9/site-packages (from python-dateutil>=2.8.1->pandas) (1.16.0)\n",
      "\n",
      "\u001b[1m[\u001b[0m\u001b[34;49mnotice\u001b[0m\u001b[1;39;49m]\u001b[0m\u001b[39;49m A new release of pip available: \u001b[0m\u001b[31;49m22.2.2\u001b[0m\u001b[39;49m -> \u001b[0m\u001b[32;49m24.1.2\u001b[0m\n",
      "\u001b[1m[\u001b[0m\u001b[34;49mnotice\u001b[0m\u001b[1;39;49m]\u001b[0m\u001b[39;49m To update, run: \u001b[0m\u001b[32;49mpip install --upgrade pip\u001b[0m\n",
      "Requirement already satisfied: psycopg2-binary in /usr/local/lib/python3.9/site-packages (2.9.9)\n",
      "\n",
      "\u001b[1m[\u001b[0m\u001b[34;49mnotice\u001b[0m\u001b[1;39;49m]\u001b[0m\u001b[39;49m A new release of pip available: \u001b[0m\u001b[31;49m22.2.2\u001b[0m\u001b[39;49m -> \u001b[0m\u001b[32;49m24.1.2\u001b[0m\n",
      "\u001b[1m[\u001b[0m\u001b[34;49mnotice\u001b[0m\u001b[1;39;49m]\u001b[0m\u001b[39;49m To update, run: \u001b[0m\u001b[32;49mpip install --upgrade pip\u001b[0m\n",
      "Collecting sqlalchemy\n",
      "  Using cached SQLAlchemy-2.0.31-cp39-cp39-manylinux_2_17_x86_64.manylinux2014_x86_64.whl (3.1 MB)\n",
      "Requirement already satisfied: typing-extensions>=4.6.0 in /usr/local/lib/python3.9/site-packages (from sqlalchemy) (4.12.2)\n",
      "Requirement already satisfied: greenlet!=0.4.17 in /usr/local/lib/python3.9/site-packages (from sqlalchemy) (3.0.3)\n",
      "Installing collected packages: sqlalchemy\n",
      "Successfully installed sqlalchemy-2.0.31\n",
      "\n",
      "\u001b[1m[\u001b[0m\u001b[34;49mnotice\u001b[0m\u001b[1;39;49m]\u001b[0m\u001b[39;49m A new release of pip available: \u001b[0m\u001b[31;49m22.2.2\u001b[0m\u001b[39;49m -> \u001b[0m\u001b[32;49m24.1.2\u001b[0m\n",
      "\u001b[1m[\u001b[0m\u001b[34;49mnotice\u001b[0m\u001b[1;39;49m]\u001b[0m\u001b[39;49m To update, run: \u001b[0m\u001b[32;49mpip install --upgrade pip\u001b[0m\n"
     ]
    }
   ],
   "source": [
    "!pip install pandas \n",
    "!pip install psycopg2-binary\n",
    "!pip install sqlalchemy"
   ]
  },
  {
   "cell_type": "code",
   "execution_count": 3,
   "id": "3e93e7a5-c379-4068-8cfe-4b538b450640",
   "metadata": {},
   "outputs": [
    {
     "name": "stdout",
     "output_type": "stream",
     "text": [
      "Collecting kafka-python\n",
      "  Using cached kafka_python-2.0.2-py2.py3-none-any.whl (246 kB)\n",
      "Installing collected packages: kafka-python\n",
      "Successfully installed kafka-python-2.0.2\n",
      "\n",
      "\u001b[1m[\u001b[0m\u001b[34;49mnotice\u001b[0m\u001b[1;39;49m]\u001b[0m\u001b[39;49m A new release of pip available: \u001b[0m\u001b[31;49m22.2.2\u001b[0m\u001b[39;49m -> \u001b[0m\u001b[32;49m24.1.2\u001b[0m\n",
      "\u001b[1m[\u001b[0m\u001b[34;49mnotice\u001b[0m\u001b[1;39;49m]\u001b[0m\u001b[39;49m To update, run: \u001b[0m\u001b[32;49mpip install --upgrade pip\u001b[0m\n"
     ]
    }
   ],
   "source": [
    "!pip install kafka-python"
   ]
  },
  {
   "cell_type": "code",
   "execution_count": 4,
   "id": "7eb741f5-5205-4c86-b0be-3e7c73d84813",
   "metadata": {},
   "outputs": [],
   "source": [
    "import boto3\n",
    "from botocore.exceptions import ClientError\n",
    "import json\n",
    "\n",
    "def get_secret():\n",
    "\n",
    "    secret_name = \"DBCreds\"\n",
    "    region_name = \"us-east-1\"\n",
    "\n",
    "    # Create a Secrets Manager client\n",
    "    session = boto3.session.Session()\n",
    "    client = session.client(\n",
    "        service_name='secretsmanager',\n",
    "        region_name=region_name\n",
    "    )\n",
    "\n",
    "    try:\n",
    "        get_secret_value_response = client.get_secret_value(\n",
    "            SecretId=secret_name\n",
    "        )\n",
    "    except ClientError as e:\n",
    "        raise e\n",
    "\n",
    "    secret = get_secret_value_response['SecretString']\n",
    "    \n",
    "    # Parse the secret string to get the credentials\n",
    "    secret_dict = json.loads(secret)\n",
    "    username = secret_dict['username']\n",
    "    password = secret_dict['password']\n",
    "    host = secret_dict['host']\n",
    "    port = secret_dict['port']\n",
    "    dbname = secret_dict['dbname']\n",
    "\n",
    "    return username, password, host, port, dbname\n",
    "\n",
    "\n",
    "(user,pswd,host,port,db) = get_secret()"
   ]
  },
  {
   "cell_type": "code",
   "execution_count": null,
   "id": "746071e7-706c-42bb-87b4-25d28f974281",
   "metadata": {},
   "outputs": [
    {
     "name": "stdout",
     "output_type": "stream",
     "text": [
      "Connected to PostgreSQL successfully.\n",
      "Starting to consume messages.\n",
      "Received message: {'name': 'memtest.exe', 'md5': '631ea355665f28d4707448e442fbf5b8', 'machine': 332, 'sizeofoptionalheader': 224, 'characteristics': 258, 'majorlinkerversion': 9, 'minorlinkerversion': 0, 'sizeofcode': 361984, 'sizeofinitializeddata': 115712, 'sizeofuninitializeddata': 0, 'addressofentrypoint': 6135, 'baseofcode': 4096, 'baseofdata': 372736, 'imagebase': 4194304.0, 'sectionalignment': 4096, 'filealignment': 512, 'majoroperatingsystemversion': 0, 'minoroperatingsystemversion': 0, 'majorimageversion': 0, 'minorimageversion': 0, 'majorsubsystemversion': 1, 'minorsubsystemversion': 0, 'sizeofimage': 1036288, 'sizeofheaders': 1024, 'checksum': 485887, 'subsystem': 16, 'dllcharacteristics': 1024, 'sizeofstackreserve': 1048576, 'sizeofstackcommit': 4096, 'sizeofheapreserve': 1048576, 'sizeofheapcommit': 4096, 'loaderflags': 0, 'numberofrvaandsizes': 16, 'sectionsnb': 8, 'sectionsmeanentropy': 5.7668065537, 'sectionsminentropy': 3.60742957555, 'sectionsmaxentropy': 7.22105072892, 'sectionsmeanrawsize': 59712.0, 'sectionsminrawsize': 1024, 'sectionmaxrawsize': 325120, 'sectionsmeanvirtualsize': 126875.875, 'sectionsminvirtualsize': 896, 'sectionmaxvirtualsize': 551848, 'importsnbdll': 0, 'importsnb': 0, 'importsnbordinal': 0, 'exportnb': 0, 'resourcesnb': 4, 'resourcesmeanentropy': 3.26282271103, 'resourcesminentropy': 2.56884382364, 'resourcesmaxentropy': 3.53793936419, 'resourcesmeansize': 8797.0, 'resourcesminsize': 216, 'resourcesmaxsize': 18032, 'loadconfigurationsize': 0, 'versioninformationsize': 16, 'legitimate': 1, 'uid': '207c26e9-0d56-46aa-9b4e-dd0a5e81ceb6'}\n",
      "Data inserted successfully.\n",
      "Received message: {'name': 'ose.exe', 'md5': '9d10f99a6712e28f8acd5641e3a7ea6b', 'machine': 332, 'sizeofoptionalheader': 224, 'characteristics': 3330, 'majorlinkerversion': 9, 'minorlinkerversion': 0, 'sizeofcode': 130560, 'sizeofinitializeddata': 19968, 'sizeofuninitializeddata': 0, 'addressofentrypoint': 81778, 'baseofcode': 4096, 'baseofdata': 143360, 'imagebase': 771751936.0, 'sectionalignment': 4096, 'filealignment': 512, 'majoroperatingsystemversion': 5, 'minoroperatingsystemversion': 1, 'majorimageversion': 0, 'minorimageversion': 0, 'majorsubsystemversion': 5, 'minorsubsystemversion': 1, 'sizeofimage': 159744, 'sizeofheaders': 1024, 'checksum': 188943, 'subsystem': 2, 'dllcharacteristics': 33088, 'sizeofstackreserve': 1048576, 'sizeofstackcommit': 4096, 'sizeofheapreserve': 1048576, 'sizeofheapcommit': 4096, 'loaderflags': 0, 'numberofrvaandsizes': 16, 'sectionsnb': 4, 'sectionsmeanentropy': 4.83968793753, 'sectionsminentropy': 2.37352509596, 'sectionsmaxentropy': 6.56690933416, 'sectionsmeanrawsize': 35584.0, 'sectionsminrawsize': 2048, 'sectionmaxrawsize': 130560, 'sectionsmeanvirtualsize': 37322.0, 'sectionsminvirtualsize': 1840, 'sectionmaxvirtualsize': 130296, 'importsnbdll': 7, 'importsnb': 181, 'importsnbordinal': 0, 'exportnb': 0, 'resourcesnb': 2, 'resourcesmeanentropy': 4.2504605579, 'resourcesminentropy': 3.42074425303, 'resourcesmaxentropy': 5.08017686277, 'resourcesmeansize': 837.0, 'resourcesminsize': 518, 'resourcesmaxsize': 1156, 'loadconfigurationsize': 72, 'versioninformationsize': 18, 'legitimate': 1, 'uid': '37c235e5-a74f-41c1-9a49-85751b87c4df'}\n",
      "Data inserted successfully.\n",
      "Received message: {'name': 'setup.exe', 'md5': '4d92f518527353c0db88a70fddcfd390', 'machine': 332, 'sizeofoptionalheader': 224, 'characteristics': 3330, 'majorlinkerversion': 9, 'minorlinkerversion': 0, 'sizeofcode': 517120, 'sizeofinitializeddata': 621568, 'sizeofuninitializeddata': 0, 'addressofentrypoint': 350896, 'baseofcode': 4096, 'baseofdata': 811008, 'imagebase': 771751936.0, 'sectionalignment': 4096, 'filealignment': 512, 'majoroperatingsystemversion': 5, 'minoroperatingsystemversion': 1, 'majorimageversion': 0, 'minorimageversion': 0, 'majorsubsystemversion': 5, 'minorsubsystemversion': 1, 'sizeofimage': 1150976, 'sizeofheaders': 1024, 'checksum': 1159817, 'subsystem': 2, 'dllcharacteristics': 32832, 'sizeofstackreserve': 1048576, 'sizeofstackcommit': 4096, 'sizeofheapreserve': 1048576, 'sizeofheapcommit': 4096, 'loaderflags': 0, 'numberofrvaandsizes': 16, 'sectionsnb': 4, 'sectionsmeanentropy': 6.40955752803, 'sectionsminentropy': 4.88519106848, 'sectionsmaxentropy': 7.60095678141, 'sectionsmeanrawsize': 273408.0, 'sectionsminrawsize': 21504, 'sectionmaxrawsize': 517120, 'sectionsmeanvirtualsize': 284498.0, 'sectionsminvirtualsize': 21456, 'sectionmaxvirtualsize': 516760, 'importsnbdll': 14, 'importsnb': 235, 'importsnbordinal': 21, 'exportnb': 1, 'resourcesnb': 11, 'resourcesmeanentropy': 4.42632398773, 'resourcesminentropy': 2.84644858861, 'resourcesmaxentropy': 5.27181275925, 'resourcesmeansize': 31102.2727273, 'resourcesminsize': 104, 'resourcesmaxsize': 270376, 'loadconfigurationsize': 72, 'versioninformationsize': 18, 'legitimate': 1, 'uid': '8e5a111d-80ed-42d3-861e-3451cae27ce2'}\n",
      "Data inserted successfully.\n",
      "Received message: {'name': 'DW20.EXE', 'md5': 'a41e524f8d45f0074fd07805ff0c9b12', 'machine': 332, 'sizeofoptionalheader': 224, 'characteristics': 258, 'majorlinkerversion': 9, 'minorlinkerversion': 0, 'sizeofcode': 585728, 'sizeofinitializeddata': 369152, 'sizeofuninitializeddata': 0, 'addressofentrypoint': 451258, 'baseofcode': 4096, 'baseofdata': 798720, 'imagebase': 771751936.0, 'sectionalignment': 4096, 'filealignment': 512, 'majoroperatingsystemversion': 5, 'minoroperatingsystemversion': 1, 'majorimageversion': 0, 'minorimageversion': 0, 'majorsubsystemversion': 5, 'minorsubsystemversion': 1, 'sizeofimage': 962560, 'sizeofheaders': 1024, 'checksum': 867570, 'subsystem': 2, 'dllcharacteristics': 33088, 'sizeofstackreserve': 1048576, 'sizeofstackcommit': 4096, 'sizeofheapreserve': 1048576, 'sizeofheapcommit': 4096, 'loaderflags': 0, 'numberofrvaandsizes': 16, 'sectionsnb': 4, 'sectionsmeanentropy': 6.64173122458, 'sectionsminentropy': 5.64256492784, 'sectionsmaxentropy': 7.59492880283, 'sectionsmeanrawsize': 207872.0, 'sectionsminrawsize': 15360, 'sectionmaxrawsize': 585728, 'sectionsmeanvirtualsize': 238502.0, 'sectionsminvirtualsize': 15208, 'sectionmaxvirtualsize': 585488, 'importsnbdll': 15, 'importsnb': 360, 'importsnbordinal': 6, 'exportnb': 1, 'resourcesnb': 10, 'resourcesmeanentropy': 4.36429082616, 'resourcesminentropy': 2.66931388802, 'resourcesmaxentropy': 6.40071950185, 'resourcesmeansize': 1457.0, 'resourcesminsize': 90, 'resourcesmaxsize': 4264, 'loadconfigurationsize': 72, 'versioninformationsize': 18, 'legitimate': 1, 'uid': 'ee5edc0c-1b95-4800-a87e-67639607b9ff'}\n",
      "Data inserted successfully.\n",
      "Received message: {'name': 'dwtrig20.exe', 'md5': 'c87e561258f2f8650cef999bf643a731', 'machine': 332, 'sizeofoptionalheader': 224, 'characteristics': 258, 'majorlinkerversion': 9, 'minorlinkerversion': 0, 'sizeofcode': 294912, 'sizeofinitializeddata': 247296, 'sizeofuninitializeddata': 0, 'addressofentrypoint': 217381, 'baseofcode': 4096, 'baseofdata': 536576, 'imagebase': 771751936.0, 'sectionalignment': 4096, 'filealignment': 512, 'majoroperatingsystemversion': 5, 'minoroperatingsystemversion': 1, 'majorimageversion': 0, 'minorimageversion': 0, 'majorsubsystemversion': 5, 'minorsubsystemversion': 1, 'sizeofimage': 552960, 'sizeofheaders': 1024, 'checksum': 579287, 'subsystem': 2, 'dllcharacteristics': 33088, 'sizeofstackreserve': 1048576, 'sizeofstackcommit': 4096, 'sizeofheapreserve': 1048576, 'sizeofheapcommit': 4096, 'loaderflags': 0, 'numberofrvaandsizes': 16, 'sectionsnb': 4, 'sectionsmeanentropy': 6.25268442524, 'sectionsminentropy': 4.18228226649, 'sectionsmaxentropy': 7.60830453625, 'sectionsmeanrawsize': 128128.0, 'sectionsminrawsize': 2560, 'sectionmaxrawsize': 294912, 'sectionsmeanvirtualsize': 135350.0, 'sectionsminvirtualsize': 2320, 'sectionmaxvirtualsize': 294816, 'importsnbdll': 10, 'importsnb': 194, 'importsnbordinal': 4, 'exportnb': 1, 'resourcesnb': 2, 'resourcesmeanentropy': 4.30610018148, 'resourcesminentropy': 3.42159769887, 'resourcesmaxentropy': 5.19060266409, 'resourcesmeansize': 1074.5, 'resourcesminsize': 849, 'resourcesmaxsize': 1300, 'loadconfigurationsize': 72, 'versioninformationsize': 18, 'legitimate': 1, 'uid': '2707148b-4a06-4988-8a8f-7cda1934bfc2'}\n",
      "Data inserted successfully.\n"
     ]
    }
   ],
   "source": [
    "import json\n",
    "from kafka import KafkaConsumer\n",
    "import psycopg2\n",
    "from psycopg2.extras import execute_values\n",
    "\n",
    "# PostgreSQL database connection details\n",
    "db_config = {\n",
    "    'dbname': db,\n",
    "    'user': user,\n",
    "    'password': pswd,\n",
    "    'host': host,\n",
    "    'port': port\n",
    "}\n",
    "\n",
    "# Kafka topic\n",
    "postgres_topic = \"postgresql\"\n",
    "brokers = [f\"{host}:9092\"]\n",
    "\n",
    "# Create a Kafka consumer\n",
    "consumer = KafkaConsumer(\n",
    "    postgres_topic,\n",
    "    bootstrap_servers=brokers,\n",
    "    value_deserializer=lambda message: json.loads(message.decode('utf-8'))\n",
    ")\n",
    "\n",
    "# Connect to PostgreSQL\n",
    "try:\n",
    "    conn = psycopg2.connect(**db_config)\n",
    "    cursor = conn.cursor()\n",
    "    print(\"Connected to PostgreSQL successfully.\")\n",
    "except Exception as e:\n",
    "    print(f\"Failed to connect to PostgreSQL: {e}\")\n",
    "    exit()\n",
    "\n",
    "try:\n",
    "    print(\"Starting to consume messages.\")\n",
    "    for message in consumer:\n",
    "        data = message.value\n",
    "        print(f\"Received message: {data}\")\n",
    "        uid = data.pop('uid')\n",
    "        data.pop('legitimate')\n",
    "        try:\n",
    "            insert_query = \"\"\"\n",
    "            INSERT INTO malware_data (uid, features)\n",
    "            VALUES (%s, %s)\n",
    "            \"\"\"\n",
    "            cursor.execute(insert_query, (uid, json.dumps(data)))\n",
    "            conn.commit()\n",
    "            print(\"Data inserted successfully.\")\n",
    "        except Exception as e:\n",
    "            print(f\"Failed to insert data: {e}\")\n",
    "            conn.rollback()\n",
    "        \n",
    "        \n",
    "except KeyboardInterrupt:\n",
    "    print(\"Consumer interrupted.\")\n",
    "finally:\n",
    "    # Close PostgreSQL connection\n",
    "    if cursor:\n",
    "        cursor.close()\n",
    "    if conn:\n",
    "        conn.close()\n",
    "        print(\"PostgreSQL connection closed.\")\n"
   ]
  },
  {
   "cell_type": "code",
   "execution_count": null,
   "id": "a0eee56d-7d29-4f38-bb4c-874347bee314",
   "metadata": {},
   "outputs": [],
   "source": []
  },
  {
   "cell_type": "code",
   "execution_count": null,
   "id": "0640aaf8-0fad-42c0-a848-45cfc879846c",
   "metadata": {},
   "outputs": [],
   "source": []
  }
 ],
 "metadata": {
  "kernelspec": {
   "display_name": "Python 3 (ipykernel)",
   "language": "python",
   "name": "python3"
  },
  "language_info": {
   "codemirror_mode": {
    "name": "ipython",
    "version": 3
   },
   "file_extension": ".py",
   "mimetype": "text/x-python",
   "name": "python",
   "nbconvert_exporter": "python",
   "pygments_lexer": "ipython3",
   "version": "3.9.10"
  }
 },
 "nbformat": 4,
 "nbformat_minor": 5
}
