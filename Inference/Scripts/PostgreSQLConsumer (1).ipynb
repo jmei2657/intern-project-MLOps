{
 "cells": [
  {
   "cell_type": "code",
   "execution_count": 1,
   "id": "b03e6fbf-0466-4ac5-bfeb-1139cf83a397",
   "metadata": {},
   "outputs": [
    {
     "name": "stdout",
     "output_type": "stream",
     "text": [
      "Requirement already satisfied: pandas in /usr/local/lib/python3.9/site-packages (1.4.3)\n",
      "Requirement already satisfied: numpy>=1.18.5 in /usr/local/lib/python3.9/site-packages (from pandas) (1.21.6)\n",
      "Requirement already satisfied: pytz>=2020.1 in /usr/local/lib/python3.9/site-packages (from pandas) (2022.4)\n",
      "Requirement already satisfied: python-dateutil>=2.8.1 in /usr/local/lib/python3.9/site-packages (from pandas) (2.8.2)\n",
      "Requirement already satisfied: six>=1.5 in /usr/local/lib/python3.9/site-packages (from python-dateutil>=2.8.1->pandas) (1.16.0)\n",
      "\n",
      "\u001b[1m[\u001b[0m\u001b[34;49mnotice\u001b[0m\u001b[1;39;49m]\u001b[0m\u001b[39;49m A new release of pip available: \u001b[0m\u001b[31;49m22.2.2\u001b[0m\u001b[39;49m -> \u001b[0m\u001b[32;49m24.1.2\u001b[0m\n",
      "\u001b[1m[\u001b[0m\u001b[34;49mnotice\u001b[0m\u001b[1;39;49m]\u001b[0m\u001b[39;49m To update, run: \u001b[0m\u001b[32;49mpip install --upgrade pip\u001b[0m\n",
      "Collecting psycopg2-binary\n",
      "  Using cached psycopg2_binary-2.9.9-cp39-cp39-manylinux_2_17_x86_64.manylinux2014_x86_64.whl (3.0 MB)\n",
      "Installing collected packages: psycopg2-binary\n",
      "Successfully installed psycopg2-binary-2.9.9\n",
      "\n",
      "\u001b[1m[\u001b[0m\u001b[34;49mnotice\u001b[0m\u001b[1;39;49m]\u001b[0m\u001b[39;49m A new release of pip available: \u001b[0m\u001b[31;49m22.2.2\u001b[0m\u001b[39;49m -> \u001b[0m\u001b[32;49m24.1.2\u001b[0m\n",
      "\u001b[1m[\u001b[0m\u001b[34;49mnotice\u001b[0m\u001b[1;39;49m]\u001b[0m\u001b[39;49m To update, run: \u001b[0m\u001b[32;49mpip install --upgrade pip\u001b[0m\n",
      "Collecting sqlalchemy\n",
      "  Using cached SQLAlchemy-2.0.31-cp39-cp39-manylinux_2_17_x86_64.manylinux2014_x86_64.whl (3.1 MB)\n",
      "Collecting greenlet!=0.4.17\n",
      "  Using cached greenlet-3.0.3-cp39-cp39-manylinux_2_24_x86_64.manylinux_2_28_x86_64.whl (614 kB)\n",
      "Collecting typing-extensions>=4.6.0\n",
      "  Using cached typing_extensions-4.12.2-py3-none-any.whl (37 kB)\n",
      "Installing collected packages: typing-extensions, greenlet, sqlalchemy\n",
      "  Attempting uninstall: typing-extensions\n",
      "    Found existing installation: typing_extensions 4.3.0\n",
      "    Uninstalling typing_extensions-4.3.0:\n",
      "      Successfully uninstalled typing_extensions-4.3.0\n",
      "\u001b[31mERROR: Could not install packages due to an OSError: [Errno 13] Permission denied: '/usr/local/include/python3.9/greenlet'\n",
      "Consider using the `--user` option or check the permissions.\n",
      "\u001b[0m\u001b[31m\n",
      "\u001b[0m\n",
      "\u001b[1m[\u001b[0m\u001b[34;49mnotice\u001b[0m\u001b[1;39;49m]\u001b[0m\u001b[39;49m A new release of pip available: \u001b[0m\u001b[31;49m22.2.2\u001b[0m\u001b[39;49m -> \u001b[0m\u001b[32;49m24.1.2\u001b[0m\n",
      "\u001b[1m[\u001b[0m\u001b[34;49mnotice\u001b[0m\u001b[1;39;49m]\u001b[0m\u001b[39;49m To update, run: \u001b[0m\u001b[32;49mpip install --upgrade pip\u001b[0m\n"
     ]
    }
   ],
   "source": [
    "!pip install pandas \n",
    "!pip install psycopg2-binary\n",
    "!pip install sqlalchemy"
   ]
  },
  {
   "cell_type": "code",
   "execution_count": 2,
   "id": "3e93e7a5-c379-4068-8cfe-4b538b450640",
   "metadata": {},
   "outputs": [
    {
     "name": "stdout",
     "output_type": "stream",
     "text": [
      "Collecting kafka-python\n",
      "  Using cached kafka_python-2.0.2-py2.py3-none-any.whl (246 kB)\n",
      "Installing collected packages: kafka-python\n",
      "Successfully installed kafka-python-2.0.2\n",
      "\n",
      "\u001b[1m[\u001b[0m\u001b[34;49mnotice\u001b[0m\u001b[1;39;49m]\u001b[0m\u001b[39;49m A new release of pip available: \u001b[0m\u001b[31;49m22.2.2\u001b[0m\u001b[39;49m -> \u001b[0m\u001b[32;49m24.1.2\u001b[0m\n",
      "\u001b[1m[\u001b[0m\u001b[34;49mnotice\u001b[0m\u001b[1;39;49m]\u001b[0m\u001b[39;49m To update, run: \u001b[0m\u001b[32;49mpip install --upgrade pip\u001b[0m\n"
     ]
    }
   ],
   "source": [
    "!pip install kafka-python"
   ]
  },
  {
   "cell_type": "code",
   "execution_count": 3,
   "id": "7eb741f5-5205-4c86-b0be-3e7c73d84813",
   "metadata": {},
   "outputs": [],
   "source": [
    "import boto3\n",
    "from botocore.exceptions import ClientError\n",
    "import json\n",
    "\n",
    "def get_secret():\n",
    "\n",
    "    secret_name = \"DBCreds\"\n",
    "    region_name = \"us-east-1\"\n",
    "\n",
    "    # Create a Secrets Manager client\n",
    "    session = boto3.session.Session()\n",
    "    client = session.client(\n",
    "        service_name='secretsmanager',\n",
    "        region_name=region_name\n",
    "    )\n",
    "\n",
    "    try:\n",
    "        get_secret_value_response = client.get_secret_value(\n",
    "            SecretId=secret_name\n",
    "        )\n",
    "    except ClientError as e:\n",
    "        raise e\n",
    "\n",
    "    secret = get_secret_value_response['SecretString']\n",
    "    \n",
    "    # Parse the secret string to get the credentials\n",
    "    secret_dict = json.loads(secret)\n",
    "    username = secret_dict['username']\n",
    "    password = secret_dict['password']\n",
    "    host = secret_dict['host']\n",
    "    port = secret_dict['port']\n",
    "    dbname = secret_dict['dbname']\n",
    "\n",
    "    return username, password, host, port, dbname\n",
    "\n",
    "\n",
    "(user,pswd,host,port,db) = get_secret()"
   ]
  },
  {
   "cell_type": "code",
   "execution_count": 5,
   "id": "746071e7-706c-42bb-87b4-25d28f974281",
   "metadata": {},
   "outputs": [
    {
     "name": "stdout",
     "output_type": "stream",
     "text": [
      "Connected to PostgreSQL successfully.\n",
      "Starting to consume messages.\n",
      "Received message: {'Name': 'memtest.exe', 'md5': '631ea355665f28d4707448e442fbf5b8', 'Machine': '332', 'SizeOfOptionalHeader': '224', 'Characteristics': '258', 'MajorLinkerVersion': '9', 'MinorLinkerVersion': '0', 'SizeOfCode': '361984', 'SizeOfInitializedData': '115712', 'SizeOfUninitializedData': '0', 'AddressOfEntryPoint': '6135', 'BaseOfCode': '4096', 'BaseOfData': '372736', 'ImageBase': '4194304.0', 'SectionAlignment': '4096', 'FileAlignment': '512', 'MajorOperatingSystemVersion': '0', 'MinorOperatingSystemVersion': '0', 'MajorImageVersion': '0', 'MinorImageVersion': '0', 'MajorSubsystemVersion': '1', 'MinorSubsystemVersion': '0', 'SizeOfImage': '1036288', 'SizeOfHeaders': '1024', 'CheckSum': '485887', 'Subsystem': '16', 'DllCharacteristics': '1024', 'SizeOfStackReserve': '1048576', 'SizeOfStackCommit': '4096', 'SizeOfHeapReserve': '1048576', 'SizeOfHeapCommit': '4096', 'LoaderFlags': '0', 'NumberOfRvaAndSizes': '16', 'SectionsNb': '8', 'SectionsMeanEntropy': '5.7668065537', 'SectionsMinEntropy': '3.60742957555', 'SectionsMaxEntropy': '7.22105072892', 'SectionsMeanRawsize': '59712.0', 'SectionsMinRawsize': '1024', 'SectionMaxRawsize': '325120', 'SectionsMeanVirtualsize': '126875.875', 'SectionsMinVirtualsize': '896', 'SectionMaxVirtualsize': '551848', 'ImportsNbDLL': '0', 'ImportsNb': '0', 'ImportsNbOrdinal': '0', 'ExportNb': '0', 'ResourcesNb': '4', 'ResourcesMeanEntropy': '3.26282271103', 'ResourcesMinEntropy': '2.56884382364', 'ResourcesMaxEntropy': '3.53793936419', 'ResourcesMeanSize': '8797.0', 'ResourcesMinSize': '216', 'ResourcesMaxSize': '18032', 'LoadConfigurationSize': '0', 'VersionInformationSize': '16', 'legitimate': '1', 'uid': '306271ca-6ef8-452b-b80a-3fc4b1af3f3d'}\n",
      "306271ca-6ef8-452b-b80a-3fc4b1af3f3d\n",
      "Received message: {'Name': 'ose.exe', 'md5': '9d10f99a6712e28f8acd5641e3a7ea6b', 'Machine': '332', 'SizeOfOptionalHeader': '224', 'Characteristics': '3330', 'MajorLinkerVersion': '9', 'MinorLinkerVersion': '0', 'SizeOfCode': '130560', 'SizeOfInitializedData': '19968', 'SizeOfUninitializedData': '0', 'AddressOfEntryPoint': '81778', 'BaseOfCode': '4096', 'BaseOfData': '143360', 'ImageBase': '771751936.0', 'SectionAlignment': '4096', 'FileAlignment': '512', 'MajorOperatingSystemVersion': '5', 'MinorOperatingSystemVersion': '1', 'MajorImageVersion': '0', 'MinorImageVersion': '0', 'MajorSubsystemVersion': '5', 'MinorSubsystemVersion': '1', 'SizeOfImage': '159744', 'SizeOfHeaders': '1024', 'CheckSum': '188943', 'Subsystem': '2', 'DllCharacteristics': '33088', 'SizeOfStackReserve': '1048576', 'SizeOfStackCommit': '4096', 'SizeOfHeapReserve': '1048576', 'SizeOfHeapCommit': '4096', 'LoaderFlags': '0', 'NumberOfRvaAndSizes': '16', 'SectionsNb': '4', 'SectionsMeanEntropy': '4.83968793753', 'SectionsMinEntropy': '2.37352509596', 'SectionsMaxEntropy': '6.56690933416', 'SectionsMeanRawsize': '35584.0', 'SectionsMinRawsize': '2048', 'SectionMaxRawsize': '130560', 'SectionsMeanVirtualsize': '37322.0', 'SectionsMinVirtualsize': '1840', 'SectionMaxVirtualsize': '130296', 'ImportsNbDLL': '7', 'ImportsNb': '181', 'ImportsNbOrdinal': '0', 'ExportNb': '0', 'ResourcesNb': '2', 'ResourcesMeanEntropy': '4.2504605579', 'ResourcesMinEntropy': '3.42074425303', 'ResourcesMaxEntropy': '5.08017686277', 'ResourcesMeanSize': '837.0', 'ResourcesMinSize': '518', 'ResourcesMaxSize': '1156', 'LoadConfigurationSize': '72', 'VersionInformationSize': '18', 'legitimate': '1', 'uid': '8d249e11-671b-4179-bef4-81d2c60817bd'}\n",
      "8d249e11-671b-4179-bef4-81d2c60817bd\n",
      "Received message: {'Name': 'setup.exe', 'md5': '4d92f518527353c0db88a70fddcfd390', 'Machine': '332', 'SizeOfOptionalHeader': '224', 'Characteristics': '3330', 'MajorLinkerVersion': '9', 'MinorLinkerVersion': '0', 'SizeOfCode': '517120', 'SizeOfInitializedData': '621568', 'SizeOfUninitializedData': '0', 'AddressOfEntryPoint': '350896', 'BaseOfCode': '4096', 'BaseOfData': '811008', 'ImageBase': '771751936.0', 'SectionAlignment': '4096', 'FileAlignment': '512', 'MajorOperatingSystemVersion': '5', 'MinorOperatingSystemVersion': '1', 'MajorImageVersion': '0', 'MinorImageVersion': '0', 'MajorSubsystemVersion': '5', 'MinorSubsystemVersion': '1', 'SizeOfImage': '1150976', 'SizeOfHeaders': '1024', 'CheckSum': '1159817', 'Subsystem': '2', 'DllCharacteristics': '32832', 'SizeOfStackReserve': '1048576', 'SizeOfStackCommit': '4096', 'SizeOfHeapReserve': '1048576', 'SizeOfHeapCommit': '4096', 'LoaderFlags': '0', 'NumberOfRvaAndSizes': '16', 'SectionsNb': '4', 'SectionsMeanEntropy': '6.40955752803', 'SectionsMinEntropy': '4.88519106848', 'SectionsMaxEntropy': '7.60095678141', 'SectionsMeanRawsize': '273408.0', 'SectionsMinRawsize': '21504', 'SectionMaxRawsize': '517120', 'SectionsMeanVirtualsize': '284498.0', 'SectionsMinVirtualsize': '21456', 'SectionMaxVirtualsize': '516760', 'ImportsNbDLL': '14', 'ImportsNb': '235', 'ImportsNbOrdinal': '21', 'ExportNb': '1', 'ResourcesNb': '11', 'ResourcesMeanEntropy': '4.42632398773', 'ResourcesMinEntropy': '2.84644858861', 'ResourcesMaxEntropy': '5.27181275925', 'ResourcesMeanSize': '31102.2727273', 'ResourcesMinSize': '104', 'ResourcesMaxSize': '270376', 'LoadConfigurationSize': '72', 'VersionInformationSize': '18', 'legitimate': '1', 'uid': '8b1730f2-9727-4b26-b8cd-0a72a1cec020'}\n",
      "8b1730f2-9727-4b26-b8cd-0a72a1cec020\n",
      "Received message: {'Name': 'dw20.exe', 'md5': 'a41e524f8d45f0074fd07805ff0c9b12', 'Machine': '332', 'SizeOfOptionalHeader': '224', 'Characteristics': '258', 'MajorLinkerVersion': '9', 'MinorLinkerVersion': '0', 'SizeOfCode': '585728', 'SizeOfInitializedData': '369152', 'SizeOfUninitializedData': '0', 'AddressOfEntryPoint': '451258', 'BaseOfCode': '4096', 'BaseOfData': '798720', 'ImageBase': '771751936.0', 'SectionAlignment': '4096', 'FileAlignment': '512', 'MajorOperatingSystemVersion': '5', 'MinorOperatingSystemVersion': '1', 'MajorImageVersion': '0', 'MinorImageVersion': '0', 'MajorSubsystemVersion': '5', 'MinorSubsystemVersion': '1', 'SizeOfImage': '962560', 'SizeOfHeaders': '1024', 'CheckSum': '867570', 'Subsystem': '2', 'DllCharacteristics': '33088', 'SizeOfStackReserve': '1048576', 'SizeOfStackCommit': '4096', 'SizeOfHeapReserve': '1048576', 'SizeOfHeapCommit': '4096', 'LoaderFlags': '0', 'NumberOfRvaAndSizes': '16', 'SectionsNb': '4', 'SectionsMeanEntropy': '6.64173122458', 'SectionsMinEntropy': '5.64256492784', 'SectionsMaxEntropy': '7.59492880283', 'SectionsMeanRawsize': '207872.0', 'SectionsMinRawsize': '15360', 'SectionMaxRawsize': '585728', 'SectionsMeanVirtualsize': '238502.0', 'SectionsMinVirtualsize': '15208', 'SectionMaxVirtualsize': '585488', 'ImportsNbDLL': '15', 'ImportsNb': '360', 'ImportsNbOrdinal': '6', 'ExportNb': '1', 'ResourcesNb': '10', 'ResourcesMeanEntropy': '4.36429082616', 'ResourcesMinEntropy': '2.66931388802', 'ResourcesMaxEntropy': '6.40071950185', 'ResourcesMeanSize': '1457.0', 'ResourcesMinSize': '90', 'ResourcesMaxSize': '4264', 'LoadConfigurationSize': '72', 'VersionInformationSize': '18', 'legitimate': '1', 'uid': 'e80d7ab4-bf13-420c-941b-9917200c5c05'}\n",
      "e80d7ab4-bf13-420c-941b-9917200c5c05\n",
      "Received message: {'Name': 'dwtrig20.exe', 'md5': 'c87e561258f2f8650cef999bf643a731', 'Machine': '332', 'SizeOfOptionalHeader': '224', 'Characteristics': '258', 'MajorLinkerVersion': '9', 'MinorLinkerVersion': '0', 'SizeOfCode': '294912', 'SizeOfInitializedData': '247296', 'SizeOfUninitializedData': '0', 'AddressOfEntryPoint': '217381', 'BaseOfCode': '4096', 'BaseOfData': '536576', 'ImageBase': '771751936.0', 'SectionAlignment': '4096', 'FileAlignment': '512', 'MajorOperatingSystemVersion': '5', 'MinorOperatingSystemVersion': '1', 'MajorImageVersion': '0', 'MinorImageVersion': '0', 'MajorSubsystemVersion': '5', 'MinorSubsystemVersion': '1', 'SizeOfImage': '552960', 'SizeOfHeaders': '1024', 'CheckSum': '579287', 'Subsystem': '2', 'DllCharacteristics': '33088', 'SizeOfStackReserve': '1048576', 'SizeOfStackCommit': '4096', 'SizeOfHeapReserve': '1048576', 'SizeOfHeapCommit': '4096', 'LoaderFlags': '0', 'NumberOfRvaAndSizes': '16', 'SectionsNb': '4', 'SectionsMeanEntropy': '6.25268442524', 'SectionsMinEntropy': '4.18228226649', 'SectionsMaxEntropy': '7.60830453625', 'SectionsMeanRawsize': '128128.0', 'SectionsMinRawsize': '2560', 'SectionMaxRawsize': '294912', 'SectionsMeanVirtualsize': '135350.0', 'SectionsMinVirtualsize': '2320', 'SectionMaxVirtualsize': '294816', 'ImportsNbDLL': '10', 'ImportsNb': '194', 'ImportsNbOrdinal': '4', 'ExportNb': '1', 'ResourcesNb': '2', 'ResourcesMeanEntropy': '4.30610018148', 'ResourcesMinEntropy': '3.42159769887', 'ResourcesMaxEntropy': '5.19060266409', 'ResourcesMeanSize': '1074.5', 'ResourcesMinSize': '849', 'ResourcesMaxSize': '1300', 'LoadConfigurationSize': '72', 'VersionInformationSize': '18', 'legitimate': '1', 'uid': '9b158e09-958b-4a63-a8ae-71975e1a90dd'}\n",
      "9b158e09-958b-4a63-a8ae-71975e1a90dd\n",
      "Consumer interrupted.\n",
      "PostgreSQL connection closed.\n"
     ]
    }
   ],
   "source": [
    "import json\n",
    "from kafka import KafkaConsumer\n",
    "import psycopg2\n",
    "from psycopg2.extras import execute_values\n",
    "\n",
    "# PostgreSQL database connection details\n",
    "db_config = {\n",
    "    'dbname': db,\n",
    "    'user': user,\n",
    "    'password': pswd,\n",
    "    'host': host,\n",
    "    'port': port\n",
    "}\n",
    "\n",
    "# Kafka topic\n",
    "postgres_topic = \"postgresql\"\n",
    "brokers = [f\"{host}:9092\"]\n",
    "\n",
    "# Create a Kafka consumer\n",
    "consumer = KafkaConsumer(\n",
    "    postgres_topic,\n",
    "    bootstrap_servers=brokers,\n",
    "    value_deserializer=lambda message: json.loads(message.decode('utf-8'))\n",
    ")\n",
    "\n",
    "# Connect to PostgreSQL\n",
    "try:\n",
    "    conn = psycopg2.connect(**db_config)\n",
    "    cursor = conn.cursor()\n",
    "    print(\"Connected to PostgreSQL successfully.\")\n",
    "except Exception as e:\n",
    "    print(f\"Failed to connect to PostgreSQL: {e}\")\n",
    "    exit()\n",
    "\n",
    "try:\n",
    "    print(\"Starting to consume messages.\")\n",
    "    for message in consumer:\n",
    "        data = message.value\n",
    "        print(f\"Received message: {data}\")\n",
    "        uid = data.pop('uid')\n",
    "        data.pop('legitimate')\n",
    "        try:\n",
    "            insert_query = \"\"\"\n",
    "            INSERT INTO malware_data (uid, features)\n",
    "            VALUES (%s, %s)\n",
    "            \"\"\"\n",
    "            cursor.execute(insert_query, (uid, data))\n",
    "            conn.commit()\n",
    "            print(\"Data inserted successfully.\")\n",
    "        except Exception as e:\n",
    "            print(f\"Failed to insert data: {e}\")\n",
    "            conn.rollback()\n",
    "        \n",
    "        \n",
    "except KeyboardInterrupt:\n",
    "    print(\"Consumer interrupted.\")\n",
    "finally:\n",
    "    # Close PostgreSQL connection\n",
    "    if cursor:\n",
    "        cursor.close()\n",
    "    if conn:\n",
    "        conn.close()\n",
    "        print(\"PostgreSQL connection closed.\")\n"
   ]
  },
  {
   "cell_type": "code",
   "execution_count": null,
   "id": "a0eee56d-7d29-4f38-bb4c-874347bee314",
   "metadata": {},
   "outputs": [],
   "source": []
  }
 ],
 "metadata": {
  "kernelspec": {
   "display_name": "Python 3 (ipykernel)",
   "language": "python",
   "name": "python3"
  },
  "language_info": {
   "codemirror_mode": {
    "name": "ipython",
    "version": 3
   },
   "file_extension": ".py",
   "mimetype": "text/x-python",
   "name": "python",
   "nbconvert_exporter": "python",
   "pygments_lexer": "ipython3",
   "version": "3.9.10"
  }
 },
 "nbformat": 4,
 "nbformat_minor": 5
}
