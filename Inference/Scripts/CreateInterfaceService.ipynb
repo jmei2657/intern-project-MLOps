{
 "cells": [
  {
   "cell_type": "code",
   "execution_count": 1,
   "id": "94f182cd-ed13-4f06-9ec1-3c32ebd22d1d",
   "metadata": {},
   "outputs": [],
   "source": [
    "from kubernetes import client \n",
    "from kserve import KServeClient\n",
    "from kserve import constants\n",
    "from kserve import utils\n",
    "from kserve import V1beta1InferenceService\n",
    "from kserve import V1beta1InferenceServiceSpec\n",
    "from kserve import V1beta1PredictorSpec\n",
    "from kserve import V1beta1SKLearnSpec"
   ]
  },
  {
   "cell_type": "code",
   "execution_count": 21,
   "id": "9a635267-5531-4cb0-983f-5b6c125507e2",
   "metadata": {},
   "outputs": [],
   "source": [
    "name = \"test\"\n",
    "namespace = utils.get_default_target_namespace()\n",
    "kserve_version='v1beta1'\n",
    "api_version = constants.KSERVE_GROUP + '/' + kserve_version\n",
    "isvc2 = V1beta1InferenceService(\n",
    "    api_version=api_version,\n",
    "    kind=constants.KSERVE_KIND,\n",
    "    metadata=client.V1ObjectMeta(\n",
    "        name=name,\n",
    "        namespace=namespace,\n",
    "        annotations={'sidecar.istio.io/inject': 'false'}\n",
    "    ),\n",
    "    spec=V1beta1InferenceServiceSpec(\n",
    "        predictor=V1beta1PredictorSpec(\n",
    "            service_account_name=\"s3-service-account\",\n",
    "            sklearn=V1beta1SKLearnSpec(\n",
    "                storage_uri=\"*\"\n",
    "            )\n",
    "        )\n",
    "    )\n",
    ")"
   ]
  },
  {
   "cell_type": "code",
   "execution_count": 22,
   "id": "5f62e55c-3103-4a19-804f-b4be3e532dc6",
   "metadata": {},
   "outputs": [
    {
     "data": {
      "text/plain": [
       "{'apiVersion': 'serving.kserve.io/v1beta1',\n",
       " 'kind': 'InferenceService',\n",
       " 'metadata': {'annotations': {'sidecar.istio.io/inject': 'false'},\n",
       "  'creationTimestamp': '2024-07-09T13:30:33Z',\n",
       "  'generation': 1,\n",
       "  'managedFields': [{'apiVersion': 'serving.kserve.io/v1beta1',\n",
       "    'fieldsType': 'FieldsV1',\n",
       "    'fieldsV1': {'f:metadata': {'f:annotations': {'.': {},\n",
       "       'f:sidecar.istio.io/inject': {}}},\n",
       "     'f:spec': {'.': {},\n",
       "      'f:predictor': {'.': {},\n",
       "       'f:serviceAccountName': {},\n",
       "       'f:sklearn': {'.': {}, 'f:name': {}, 'f:storageUri': {}}}}},\n",
       "    'manager': 'OpenAPI-Generator',\n",
       "    'operation': 'Update',\n",
       "    'time': '2024-07-09T13:30:31Z'}],\n",
       "  'name': 'test',\n",
       "  'namespace': 'kubeflow-user-example-com',\n",
       "  'resourceVersion': '4496030',\n",
       "  'uid': '56418763-d013-4751-a9c9-9217afc87c58'},\n",
       " 'spec': {'predictor': {'model': {'modelFormat': {'name': 'sklearn'},\n",
       "    'name': '',\n",
       "    'protocolVersion': 'v1',\n",
       "    'resources': {},\n",
       "    'runtime': 'kserve-sklearnserver',\n",
       "    'storageUri': 's3://mlpipelineews/version1/dtc/model.pkl'},\n",
       "   'serviceAccountName': 's3-service-account'}}}"
      ]
     },
     "execution_count": 22,
     "metadata": {},
     "output_type": "execute_result"
    }
   ],
   "source": [
    "KServe = KServeClient()\n",
    "KServe.create(isvc2)"
   ]
  },
  {
   "cell_type": "code",
   "execution_count": 24,
   "id": "4b2a4b2e-34a2-4fa3-bb0a-9e0fd1e05451",
   "metadata": {},
   "outputs": [
    {
     "name": "stdout",
     "output_type": "stream",
     "text": [
      "{'apiVersion': 'serving.kserve.io/v1beta1', 'kind': 'InferenceService', 'metadata': {'annotations': {'sidecar.istio.io/inject': 'false'}, 'creationTimestamp': '2024-07-09T13:30:33Z', 'finalizers': ['inferenceservice.finalizers'], 'generation': 1, 'managedFields': [{'apiVersion': 'serving.kserve.io/v1beta1', 'fieldsType': 'FieldsV1', 'fieldsV1': {'f:metadata': {'f:annotations': {'.': {}, 'f:sidecar.istio.io/inject': {}}}, 'f:spec': {'.': {}, 'f:predictor': {'.': {}, 'f:serviceAccountName': {}, 'f:sklearn': {'.': {}, 'f:name': {}, 'f:storageUri': {}}}}}, 'manager': 'OpenAPI-Generator', 'operation': 'Update', 'time': '2024-07-09T13:30:31Z'}, {'apiVersion': 'serving.kserve.io/v1beta1', 'fieldsType': 'FieldsV1', 'fieldsV1': {'f:metadata': {'f:finalizers': {'.': {}, 'v:\"inferenceservice.finalizers\"': {}}}}, 'manager': 'manager', 'operation': 'Update', 'time': '2024-07-09T13:30:33Z'}, {'apiVersion': 'serving.kserve.io/v1beta1', 'fieldsType': 'FieldsV1', 'fieldsV1': {'f:status': {'.': {}, 'f:components': {'.': {}, 'f:predictor': {'.': {}, 'f:latestCreatedRevision': {}}}, 'f:conditions': {}}}, 'manager': 'manager', 'operation': 'Update', 'subresource': 'status', 'time': '2024-07-09T13:30:36Z'}], 'name': 'test', 'namespace': 'kubeflow-user-example-com', 'resourceVersion': '4496088', 'uid': '56418763-d013-4751-a9c9-9217afc87c58'}, 'spec': {'predictor': {'model': {'modelFormat': {'name': 'sklearn'}, 'name': '', 'protocolVersion': 'v1', 'resources': {}, 'runtime': 'kserve-sklearnserver', 'storageUri': 's3://mlpipelineews/version1/dtc/model.pkl'}, 'serviceAccountName': 's3-service-account'}}, 'status': {'components': {'predictor': {'latestCreatedRevision': 'test-predictor-default-00001'}}, 'conditions': [{'lastTransitionTime': '2024-07-09T13:30:36Z', 'severity': 'Info', 'status': 'Unknown', 'type': 'PredictorConfigurationReady'}, {'lastTransitionTime': '2024-07-09T13:30:36Z', 'message': 'Configuration \"test-predictor-default\" is waiting for a Revision to become ready.', 'reason': 'RevisionMissing', 'status': 'Unknown', 'type': 'PredictorReady'}, {'lastTransitionTime': '2024-07-09T13:30:36Z', 'message': 'Configuration \"test-predictor-default\" is waiting for a Revision to become ready.', 'reason': 'RevisionMissing', 'severity': 'Info', 'status': 'Unknown', 'type': 'PredictorRouteReady'}, {'lastTransitionTime': '2024-07-09T13:30:36Z', 'message': 'Configuration \"test-predictor-default\" is waiting for a Revision to become ready.', 'reason': 'RevisionMissing', 'status': 'Unknown', 'type': 'Ready'}]}}\n"
     ]
    }
   ],
   "source": [
    "KServe = KServeClient()\n",
    "\n",
    "import requests\n",
    "\n",
    "namespace = utils.get_default_target_namespace()\n",
    "\n",
    "\n",
    "isvc_status = KServe.get(\"test\", namespace=namespace)\n",
    "print(isvc_status)"
   ]
  },
  {
   "cell_type": "code",
   "execution_count": null,
   "id": "2dc8a043-b575-445d-9fde-cfd5db847b0f",
   "metadata": {},
   "outputs": [],
   "source": [
    "try:\n",
    "    model_endpoint = isvc_status['status']['address']['url']\n",
    "    print(f\"Model endpoint: {model_endpoint}\")\n",
    "except KeyError:\n",
    "    print(\"Error: Unable to retrieve the model endpoint.\")"
   ]
  },
  {
   "cell_type": "code",
   "execution_count": null,
   "id": "713f40b7-5193-444c-aa71-11f2adb3b758",
   "metadata": {},
   "outputs": [],
   "source": [
    "# steps: \n",
    "#1. rename the old model to its original name (by cp then delete)\n",
    "#2. rename the new model to mode (by cp and delete)"
   ]
  },
  {
   "cell_type": "code",
   "execution_count": null,
   "id": "73a5bc2b-46b2-44aa-8292-039246f49c60",
   "metadata": {},
   "outputs": [],
   "source": [
    "import boto3\n",
    "\n",
    "\n",
    "s3 = boto3.client('s3')\n",
    "\n",
    "# Define the bucket name, original object key, and new object key\n",
    "bucket_name = '*'\n",
    "original_key = '*'\n",
    "new_key = '*'\n",
    "\n",
    "# Copy the object\n",
    "s3.copy_object(\n",
    "    Bucket=bucket_name,\n",
    "    CopySource={'Bucket': bucket_name, 'Key': original_key},\n",
    "    Key=new_key\n",
    "    \n",
    ")\n",
    "\n",
    "# Delete the original object\n",
    "s3.delete_object(Bucket=bucket_name, Key=original_key)\n",
    "\n",
    "print(f\"Object renamed from {original_key} to {new_key}\")"
   ]
  },
  {
   "cell_type": "code",
   "execution_count": null,
   "id": "ae10de68-4242-4ee9-9cb4-06e9ae3c0f3f",
   "metadata": {},
   "outputs": [],
   "source": [
    "s3.delete_object(Bucket=bucket_name, Key=original_key)\n"
   ]
  }
 ],
 "metadata": {
  "kernelspec": {
   "display_name": "Python 3 (ipykernel)",
   "language": "python",
   "name": "python3"
  },
  "language_info": {
   "codemirror_mode": {
    "name": "ipython",
    "version": 3
   },
   "file_extension": ".py",
   "mimetype": "text/x-python",
   "name": "python",
   "nbconvert_exporter": "python",
   "pygments_lexer": "ipython3",
   "version": "3.9.10"
  }
 },
 "nbformat": 4,
 "nbformat_minor": 5
}
