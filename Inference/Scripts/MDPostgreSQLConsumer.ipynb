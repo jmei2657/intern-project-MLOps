{
 "cells": [
  {
   "cell_type": "code",
   "execution_count": null,
   "id": "b03e6fbf-0466-4ac5-bfeb-1139cf83a397",
   "metadata": {},
   "outputs": [],
   "source": [
    "!pip install pandas \n",
    "!pip install psycopg2-binary\n",
    "!pip install sqlalchemy"
   ]
  },
  {
   "cell_type": "code",
   "execution_count": 2,
   "id": "3e93e7a5-c379-4068-8cfe-4b538b450640",
   "metadata": {},
   "outputs": [
    {
     "name": "stdout",
     "output_type": "stream",
     "text": [
      "Collecting kafka-python\n",
      "  Using cached kafka_python-2.0.2-py2.py3-none-any.whl (246 kB)\n",
      "Installing collected packages: kafka-python\n",
      "Successfully installed kafka-python-2.0.2\n",
      "\n",
      "\u001b[1m[\u001b[0m\u001b[34;49mnotice\u001b[0m\u001b[1;39;49m]\u001b[0m\u001b[39;49m A new release of pip available: \u001b[0m\u001b[31;49m22.2.2\u001b[0m\u001b[39;49m -> \u001b[0m\u001b[32;49m24.1.2\u001b[0m\n",
      "\u001b[1m[\u001b[0m\u001b[34;49mnotice\u001b[0m\u001b[1;39;49m]\u001b[0m\u001b[39;49m To update, run: \u001b[0m\u001b[32;49mpip install --upgrade pip\u001b[0m\n"
     ]
    }
   ],
   "source": [
    "!pip install kafka-python"
   ]
  },
  {
   "cell_type": "code",
   "execution_count": 1,
   "id": "7eb741f5-5205-4c86-b0be-3e7c73d84813",
   "metadata": {},
   "outputs": [],
   "source": [
    "import boto3\n",
    "from botocore.exceptions import ClientError\n",
    "import json\n",
    "\n",
    "def get_secret():\n",
    "\n",
    "    secret_name = \"DBCreds\"\n",
    "    region_name = \"us-east-1\"\n",
    "\n",
    "    # Create a Secrets Manager client\n",
    "    session = boto3.session.Session()\n",
    "    client = session.client(\n",
    "        service_name='secretsmanager',\n",
    "        region_name=region_name\n",
    "    )\n",
    "\n",
    "    try:\n",
    "        get_secret_value_response = client.get_secret_value(\n",
    "            SecretId=secret_name\n",
    "        )\n",
    "    except ClientError as e:\n",
    "        raise e\n",
    "\n",
    "    secret = get_secret_value_response['SecretString']\n",
    "    \n",
    "    # Parse the secret string to get the credentials\n",
    "    secret_dict = json.loads(secret)\n",
    "    username = secret_dict['username']\n",
    "    password = secret_dict['password']\n",
    "    host = secret_dict['host']\n",
    "    port = secret_dict['port']\n",
    "    dbname = secret_dict['dbname']\n",
    "\n",
    "    return username, password, host, port, dbname\n",
    "\n",
    "\n",
    "(user,pswd,host,port,db) = get_secret()"
   ]
  },
  {
   "cell_type": "code",
   "execution_count": null,
   "id": "746071e7-706c-42bb-87b4-25d28f974281",
   "metadata": {},
   "outputs": [
    {
     "name": "stdout",
     "output_type": "stream",
     "text": [
      "Connected to PostgreSQL successfully.\n",
      "Starting to consume messages.\n"
     ]
    }
   ],
   "source": [
    "import json\n",
    "from kafka import KafkaConsumer\n",
    "import psycopg2\n",
    "from psycopg2.extras import execute_values\n",
    "\n",
    "# PostgreSQL database connection details\n",
    "db_config = {\n",
    "    'dbname': db,\n",
    "    'user': user,\n",
    "    'password': pswd,\n",
    "    'host': host,\n",
    "    'port': port\n",
    "}\n",
    "\n",
    "# Kafka topic\n",
    "postgres_topic = \"postgresql\"\n",
    "brokers = [f\"{host}:9092\"]\n",
    "\n",
    "# Create a Kafka consumer\n",
    "consumer = KafkaConsumer(\n",
    "    postgres_topic,\n",
    "    bootstrap_servers=brokers,\n",
    "    value_deserializer=lambda message: json.loads(message.decode('utf-8'))\n",
    ")\n",
    "\n",
    "# Connect to PostgreSQL\n",
    "try:\n",
    "    conn = psycopg2.connect(**db_config)\n",
    "    cursor = conn.cursor()\n",
    "    print(\"Connected to PostgreSQL successfully.\")\n",
    "except Exception as e:\n",
    "    print(f\"Failed to connect to PostgreSQL: {e}\")\n",
    "    exit()\n",
    "\n",
    "try:\n",
    "    print(\"Starting to consume messages.\")\n",
    "    for message in consumer:\n",
    "        data = message.value\n",
    "        print(f\"Received message: {data}\")\n",
    "        uid = data.pop('uid')\n",
    "        data.pop('legitimate')\n",
    "        try:\n",
    "            insert_query = \"\"\"\n",
    "            INSERT INTO malware_data (uid, features)\n",
    "            VALUES (%s, %s)\n",
    "            \"\"\"\n",
    "            cursor.execute(insert_query, (uid, json.dumps(data)))\n",
    "            conn.commit()\n",
    "            print(\"Data inserted successfully.\")\n",
    "        except Exception as e:\n",
    "            print(f\"Failed to insert data: {e}\")\n",
    "            conn.rollback()\n",
    "        \n",
    "        \n",
    "except KeyboardInterrupt:\n",
    "    print(\"Consumer interrupted.\")\n",
    "finally:\n",
    "    # Close PostgreSQL connection\n",
    "    if cursor:\n",
    "        cursor.close()\n",
    "    if conn:\n",
    "        conn.close()\n",
    "        print(\"PostgreSQL connection closed.\")\n"
   ]
  },
  {
   "cell_type": "code",
   "execution_count": null,
   "id": "a0eee56d-7d29-4f38-bb4c-874347bee314",
   "metadata": {},
   "outputs": [],
   "source": []
  }
 ],
 "metadata": {
  "kernelspec": {
   "display_name": "Python 3 (ipykernel)",
   "language": "python",
   "name": "python3"
  },
  "language_info": {
   "codemirror_mode": {
    "name": "ipython",
    "version": 3
   },
   "file_extension": ".py",
   "mimetype": "text/x-python",
   "name": "python",
   "nbconvert_exporter": "python",
   "pygments_lexer": "ipython3",
   "version": "3.9.10"
  }
 },
 "nbformat": 4,
 "nbformat_minor": 5
}
