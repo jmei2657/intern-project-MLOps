{
 "cells": [
  {
   "cell_type": "code",
   "execution_count": 1,
   "id": "a440e2a1-0fc3-408b-8901-f512488f37c4",
   "metadata": {},
   "outputs": [
    {
     "name": "stdout",
     "output_type": "stream",
     "text": [
      "Connected to PostgreSQL successfully.\n",
      "Table 'outcomes' created successfully.\n",
      "PostgreSQL connection closed.\n"
     ]
    }
   ],
   "source": [
    "import psycopg2\n",
    "from psycopg2 import sql\n",
    "\n",
    "# Database details\n",
    "db_details = {\n",
    "    'dbname': 'mydb',\n",
    "    'user': 'exampleuser',\n",
    "    'password': 'abc',\n",
    "    'host': '10.100.107.105',\n",
    "    'port': 5432\n",
    "}\n",
    "\n",
    "# Connect to PostgreSQL\n",
    "try:\n",
    "    conn = psycopg2.connect(**db_details)\n",
    "    cursor = conn.cursor()\n",
    "    print(\"Connected to PostgreSQL successfully.\")\n",
    "except Exception as e:\n",
    "    print(f\"Failed to connect to PostgreSQL: {e}\")\n",
    "    exit()\n",
    "\n",
    "# Create the table\n",
    "try:\n",
    "    create_table_query = sql.SQL(\"\"\"\n",
    "    CREATE TABLE IF NOT EXISTS outcomes (\n",
    "        id UUID PRIMARY KEY,\n",
    "        outcome INTEGER NOT NULL CHECK (outcome IN (0, 1)),\n",
    "        timestamp TIMESTAMP DEFAULT CURRENT_TIMESTAMP\n",
    "    )\n",
    "    \"\"\")\n",
    "\n",
    "    cursor.execute(create_table_query)\n",
    "    conn.commit()\n",
    "    print(\"Table 'outcomes' created successfully.\")\n",
    "except Exception as e:\n",
    "    print(f\"Failed to create table: {e}\")\n",
    "    conn.rollback()\n",
    "finally:\n",
    "    if cursor:\n",
    "        cursor.close()\n",
    "    if conn:\n",
    "        conn.close()\n",
    "    print(\"PostgreSQL connection closed.\")\n"
   ]
  },
  {
   "cell_type": "code",
   "execution_count": 2,
   "id": "3784cb48-12f7-4a50-bf75-a8f40a402b4e",
   "metadata": {},
   "outputs": [
    {
     "name": "stdout",
     "output_type": "stream",
     "text": [
      "Connected to PostgreSQL successfully.\n",
      "Data inserted successfully.\n",
      "PostgreSQL connection closed.\n"
     ]
    }
   ],
   "source": [
    "import psycopg2\n",
    "import uuid\n",
    "\n",
    "# Database details\n",
    "db_details = {\n",
    "    'dbname': 'mydb',\n",
    "    'user': 'exampleuser',\n",
    "    'password': 'abc',\n",
    "    'host': '10.100.107.105',\n",
    "    'port': 5432\n",
    "}\n",
    "\n",
    "# Data to insert\n",
    "outcome_data = {\n",
    "    'id': str(uuid.uuid4()),  # Generating a unique ID\n",
    "    'outcome': 1  # This can be 0 or 1\n",
    "}\n",
    "\n",
    "# Connect to PostgreSQL\n",
    "try:\n",
    "    conn = psycopg2.connect(**db_details)\n",
    "    cursor = conn.cursor()\n",
    "    print(\"Connected to PostgreSQL successfully.\")\n",
    "except Exception as e:\n",
    "    print(f\"Failed to connect to PostgreSQL: {e}\")\n",
    "    exit()\n",
    "\n",
    "# Insert data into the table\n",
    "try:\n",
    "    insert_query = \"\"\"\n",
    "    INSERT INTO outcomes (id, outcome)\n",
    "    VALUES (%s, %s)\n",
    "    \"\"\"\n",
    "    cursor.execute(insert_query, (outcome_data['id'], outcome_data['outcome']))\n",
    "    conn.commit()\n",
    "    print(\"Data inserted successfully.\")\n",
    "except Exception as e:\n",
    "    print(f\"Failed to insert data: {e}\")\n",
    "    conn.rollback()\n",
    "finally:\n",
    "    if cursor:\n",
    "        cursor.close()\n",
    "    if conn:\n",
    "        conn.close()\n",
    "    print(\"PostgreSQL connection closed.\")"
   ]
  },
  {
   "cell_type": "code",
   "execution_count": 4,
   "id": "a741b999-1304-43ef-baa7-c3886bb415d4",
   "metadata": {},
   "outputs": [
    {
     "name": "stdout",
     "output_type": "stream",
     "text": [
      "Connected to PostgreSQL successfully.\n",
      "Data from 'outcomes' table:\n",
      "(1,)\n",
      "PostgreSQL connection closed.\n"
     ]
    }
   ],
   "source": [
    "import psycopg2\n",
    "\n",
    "# Database details\n",
    "db_details = {\n",
    "    'dbname': 'mydb',\n",
    "    'user': 'exampleuser',\n",
    "    'password': 'abc',\n",
    "    'host': '10.100.107.105',\n",
    "    'port': 5432\n",
    "}\n",
    "\n",
    "# Connect to PostgreSQL\n",
    "try:\n",
    "    conn = psycopg2.connect(**db_details)\n",
    "    cursor = conn.cursor()\n",
    "    print(\"Connected to PostgreSQL successfully.\")\n",
    "except Exception as e:\n",
    "    print(f\"Failed to connect to PostgreSQL: {e}\")\n",
    "    exit()\n",
    "\n",
    "# Query to fetch data from the table\n",
    "try:\n",
    "    fetch_query = \"SELECT outcome FROM outcomes\"\n",
    "    cursor.execute(fetch_query)\n",
    "    records = cursor.fetchall()\n",
    "    \n",
    "    print(\"Data from 'outcomes' table:\")\n",
    "    for record in records:\n",
    "        print(record)\n",
    "except Exception as e:\n",
    "    print(f\"Failed to fetch data: {e}\")\n",
    "finally:\n",
    "    if cursor:\n",
    "        cursor.close()\n",
    "    if conn:\n",
    "        conn.close()\n",
    "    print(\"PostgreSQL connection closed.\")"
   ]
  },
  {
   "cell_type": "code",
   "execution_count": null,
   "id": "0a89dd54-4f40-4cf1-885a-d1d1f37f5b08",
   "metadata": {},
   "outputs": [],
   "source": [
    "# how to pull out kserve\n",
    "print(kserve_response['predictions'][0])"
   ]
  }
 ],
 "metadata": {
  "kernelspec": {
   "display_name": "Python 3 (ipykernel)",
   "language": "python",
   "name": "python3"
  },
  "language_info": {
   "codemirror_mode": {
    "name": "ipython",
    "version": 3
   },
   "file_extension": ".py",
   "mimetype": "text/x-python",
   "name": "python",
   "nbconvert_exporter": "python",
   "pygments_lexer": "ipython3",
   "version": "3.9.10"
  }
 },
 "nbformat": 4,
 "nbformat_minor": 5
}
