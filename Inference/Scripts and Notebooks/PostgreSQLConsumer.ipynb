{
 "cells": [
  {
   "cell_type": "code",
   "execution_count": null,
   "id": "b03e6fbf-0466-4ac5-bfeb-1139cf83a397",
   "metadata": {},
   "outputs": [],
   "source": [
    "!pip install pandas \n",
    "!pip install psycopg2-binary\n",
    "!pip install sqlalchemy"
   ]
  },
  {
   "cell_type": "code",
   "execution_count": null,
   "id": "746071e7-706c-42bb-87b4-25d28f974281",
   "metadata": {},
   "outputs": [],
   "source": [
    "import json\n",
    "from kafka import KafkaConsumer\n",
    "import psycopg2\n",
    "from psycopg2.extras import execute_values\n",
    "\n",
    "# PostgreSQL database connection details\n",
    "db_config = {\n",
    "    'dbname': 'mydb',\n",
    "    'user': 'exampleuser',\n",
    "    'password': 'abc',\n",
    "    'host': '10.100.107.105',\n",
    "    'port': 5432\n",
    "}\n",
    "\n",
    "# Kafka topic\n",
    "postgres_topic = \"postgresql\"\n",
    "brokers = [\"ec2-54-80-241-235.compute-1.amazonaws.com:9092\"]\n",
    "\n",
    "# Create a Kafka consumer\n",
    "consumer = KafkaConsumer(\n",
    "    postgres_topic,\n",
    "    bootstrap_servers=brokers,\n",
    "    value_deserializer=lambda message: json.loads(message.decode('utf-8'))\n",
    ")\n",
    "\n",
    "# Connect to PostgreSQL\n",
    "try:\n",
    "    conn = psycopg2.connect(**db_config)\n",
    "    cursor = conn.cursor()\n",
    "    print(\"Connected to PostgreSQL successfully.\")\n",
    "except Exception as e:\n",
    "    print(f\"Failed to connect to PostgreSQL: {e}\")\n",
    "    exit()\n",
    "\n",
    "try:\n",
    "    print(\"Starting to consume messages.\")\n",
    "    for message in consumer:\n",
    "        data = message.value\n",
    "        print(f\"Received message: {data}\")\n",
    "\n",
    "        # Insert data into PostgreSQL\n",
    "        try:\n",
    "            columns = data.keys()\n",
    "            values = [tuple(data.values())]\n",
    "            insert_query = f\"INSERT INTO malware_data ({', '.join(columns)}) VALUES %s\"\n",
    "            execute_values(cursor, insert_query, values)\n",
    "            conn.commit()\n",
    "            print(\"Data inserted successfully\")\n",
    "        except Exception as e:\n",
    "            print(f\"Failed to insert data: {e}\")\n",
    "            conn.rollback()\n",
    "except KeyboardInterrupt:\n",
    "    print(\"Consumer interrupted.\")\n",
    "finally:\n",
    "    # Close PostgreSQL connection\n",
    "    if cursor:\n",
    "        cursor.close()\n",
    "    if conn:\n",
    "        conn.close()\n",
    "        print(\"PostgreSQL connection closed.\")\n"
   ]
  }
 ],
 "metadata": {
  "kernelspec": {
   "display_name": "Python 3 (ipykernel)",
   "language": "python",
   "name": "python3"
  },
  "language_info": {
   "codemirror_mode": {
    "name": "ipython",
    "version": 3
   },
   "file_extension": ".py",
   "mimetype": "text/x-python",
   "name": "python",
   "nbconvert_exporter": "python",
   "pygments_lexer": "ipython3",
   "version": "3.9.10"
  }
 },
 "nbformat": 4,
 "nbformat_minor": 5
}
