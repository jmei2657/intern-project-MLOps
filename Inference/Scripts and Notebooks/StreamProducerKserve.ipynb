{
 "cells": [
  {
   "cell_type": "code",
   "execution_count": 3,
   "id": "a03318da-d12c-401a-844e-e320727e61a1",
   "metadata": {},
   "outputs": [
    {
     "name": "stdout",
     "output_type": "stream",
     "text": [
      "Collecting kafka-python\n",
      "  Using cached kafka_python-2.0.2-py2.py3-none-any.whl (246 kB)\n",
      "Installing collected packages: kafka-python\n",
      "Successfully installed kafka-python-2.0.2\n",
      "\n",
      "\u001b[1m[\u001b[0m\u001b[34;49mnotice\u001b[0m\u001b[1;39;49m]\u001b[0m\u001b[39;49m A new release of pip available: \u001b[0m\u001b[31;49m22.2.2\u001b[0m\u001b[39;49m -> \u001b[0m\u001b[32;49m24.1\u001b[0m\n",
      "\u001b[1m[\u001b[0m\u001b[34;49mnotice\u001b[0m\u001b[1;39;49m]\u001b[0m\u001b[39;49m To update, run: \u001b[0m\u001b[32;49mpip install --upgrade pip\u001b[0m\n"
     ]
    }
   ],
   "source": [
    "!pip install kafka-python"
   ]
  },
  {
   "cell_type": "code",
   "execution_count": 8,
   "id": "17a1fb9c-baa6-4e37-b2b7-5bda0b3164d4",
   "metadata": {},
   "outputs": [],
   "source": [
    "from scipy.special import boxcox\n",
    "import requests\n",
    "from kafka import KafkaProducer\n",
    "import pandas as pd\n",
    "import json\n",
    "import io"
   ]
  },
  {
   "cell_type": "code",
   "execution_count": 9,
   "id": "19d76766-426e-43eb-9def-f7a88aef718d",
   "metadata": {},
   "outputs": [],
   "source": [
    "def zscore_normalization(df, name):\n",
    "    mean = df[name].mean()\n",
    "    sd = df[name].std()\n",
    "\n",
    "    df[name] = (df[name] - mean) / sd\n",
    "\n",
    "def preprocess(df):\n",
    "    df = df.drop(columns=['Name', 'md5'])\n",
    "    for i in df.columns:\n",
    "        if i != 'legitimate':\n",
    "            df[i] = boxcox(df[i], 0.5)\n",
    "            zscore_normalization(df, i)\n",
    "    correlation_matrix = df.corr()\n",
    "    cols_to_drop = []\n",
    "    for i in df.columns:\n",
    "        for j in df.columns:\n",
    "            if i != j and i != 'legitimate' and j != 'legitimate' and abs(correlation_matrix[i][j]) > 0.6 and i not in cols_to_drop and j not in cols_to_drop:\n",
    "                cols_to_drop.append(i)\n",
    "    cols_to_drop = set(cols_to_drop)\n",
    "    df.drop(columns=cols_to_drop, inplace=True)\n",
    "    return df"
   ]
  },
  {
   "cell_type": "code",
   "execution_count": 14,
   "id": "e6eb1096-7889-49c5-b54f-42a2b8da8b0e",
   "metadata": {},
   "outputs": [
    {
     "name": "stderr",
     "output_type": "stream",
     "text": [
      "INFO:__main__:Downloading CSV file from GitHub...\n",
      "INFO:__main__:CSV file downloaded successfully.\n",
      "INFO:__main__:CSV file processed successfully.\n",
      "INFO:__main__:Creating Kafka producer...\n",
      "INFO:kafka.conn:<BrokerConnection node_id=bootstrap-0 host=ec2-107-21-74-54.compute-1.amazonaws.com:9092 <connecting> [IPv4 ('107.21.74.54', 9092)]>: connecting to ec2-107-21-74-54.compute-1.amazonaws.com:9092 [('107.21.74.54', 9092) IPv4]\n",
      "INFO:kafka.conn:Probing node bootstrap-0 broker version\n",
      "INFO:kafka.conn:<BrokerConnection node_id=bootstrap-0 host=ec2-107-21-74-54.compute-1.amazonaws.com:9092 <connecting> [IPv4 ('107.21.74.54', 9092)]>: Connection complete.\n",
      "INFO:kafka.conn:Broker version identified as 2.5.0\n",
      "INFO:kafka.conn:Set configuration api_version=(2, 5, 0) to skip auto check_version requests on startup\n",
      "INFO:__main__:Sent row 1 to Kafka\n",
      "INFO:__main__:Sent row 2 to Kafka\n",
      "INFO:__main__:Sent row 3 to Kafka\n",
      "INFO:__main__:Sent row 4 to Kafka\n",
      "INFO:__main__:Sent row 5 to Kafka\n",
      "INFO:kafka.conn:<BrokerConnection node_id=2 host=ec2-107-21-74-54.compute-1.amazonaws.com:9094 <connecting> [IPv4 ('107.21.74.54', 9094)]>: connecting to ec2-107-21-74-54.compute-1.amazonaws.com:9094 [('107.21.74.54', 9094) IPv4]\n",
      "INFO:kafka.conn:<BrokerConnection node_id=2 host=ec2-107-21-74-54.compute-1.amazonaws.com:9094 <connecting> [IPv4 ('107.21.74.54', 9094)]>: Connection complete.\n",
      "INFO:kafka.conn:<BrokerConnection node_id=bootstrap-0 host=ec2-107-21-74-54.compute-1.amazonaws.com:9092 <connected> [IPv4 ('107.21.74.54', 9092)]>: Closing connection. \n",
      "INFO:kafka.conn:<BrokerConnection node_id=2 host=ec2-107-21-74-54.compute-1.amazonaws.com:9094 <connected> [IPv4 ('107.21.74.54', 9094)]>: Closing connection. \n",
      "INFO:__main__:First 5 rows sent to Kafka topic: three\n"
     ]
    }
   ],
   "source": [
    "import logging\n",
    "import requests\n",
    "import pandas as pd\n",
    "from kafka import KafkaProducer\n",
    "import json\n",
    "\n",
    "# Configure logging\n",
    "logging.basicConfig(level=logging.INFO)\n",
    "logger = logging.getLogger(__name__)\n",
    "\n",
    "# Broker address\n",
    "brokers = [\"ec2-107-21-74-54.compute-1.amazonaws.com:9092\"]\n",
    "\n",
    "# GitHub raw URL for the CSV file\n",
    "github_url = \"https://raw.githubusercontent.com/tsimhadri-ews/internproject/malware-detection-0/src/MalwareData.csv\"\n",
    "\n",
    "# Download the CSV file from GitHub\n",
    "logger.info(\"Downloading CSV file from GitHub...\")\n",
    "response = requests.get(github_url)\n",
    "\n",
    "# Check if the request was successful\n",
    "if response.status_code == 200:\n",
    "    logger.info(\"CSV file downloaded successfully.\")\n",
    "    # Read the data into a pandas DataFrame\n",
    "    df = pd.read_csv(github_url, sep='|')\n",
    "    df = preprocess(df)\n",
    "    df = df.drop(columns=['legitimate'])\n",
    "    logger.info(\"CSV file processed successfully.\")\n",
    "else:\n",
    "    logger.error(f\"Failed to download file: {response.status_code}\")\n",
    "    exit()\n",
    "\n",
    "\n",
    "topic = \"three\"\n",
    "\n",
    "# Create a Kafka producer\n",
    "logger.info(\"Creating Kafka producer...\")\n",
    "producer = KafkaProducer(\n",
    "    bootstrap_servers=brokers,\n",
    "    value_serializer=lambda message: json.dumps(message).encode('utf-8'),\n",
    ")\n",
    "# Get the first 5 rows in the DataFrame\n",
    "first_5_rows = df.head(5)\n",
    "\n",
    "# Convert each row to a dictionary and send to Kafka\n",
    "for index, row in first_5_rows.iterrows():\n",
    "    data = row.to_dict()\n",
    "    producer.send(topic, data)\n",
    "    logger.info(f\"Sent row {index + 1} to Kafka\")\n",
    "\n",
    "# Flush data and close the producer\n",
    "producer.flush()\n",
    "producer.close()\n",
    "\n",
    "logger.info(f\"First 5 rows sent to Kafka topic: {topic}\")\n"
   ]
  },
  {
   "cell_type": "code",
   "execution_count": null,
   "id": "45d7f625-7dfc-49de-ae7f-6d3d9e4b45cb",
   "metadata": {},
   "outputs": [],
   "source": []
  },
  {
   "cell_type": "code",
   "execution_count": 14,
   "id": "d345fc06-c810-47b1-ab59-dfe5869d4941",
   "metadata": {},
   "outputs": [],
   "source": [
    "github_url = \"https://raw.githubusercontent.com/tsimhadri-ews/internproject/malware-detection-0/src/MalwareData.csv\"\n",
    "\n",
    "response = requests.get(github_url)\n",
    "\n",
    "# Check if the request was successful\n",
    "if response.status_code == 200:\n",
    "    #logger.info(\"CSV file downloaded successfully.\")\n",
    "    # Read the data into a pandas DataFrame\n",
    "    df = pd.read_csv(github_url, sep='|')\n",
    "    df = preprocess(df)"
   ]
  },
  {
   "cell_type": "code",
   "execution_count": 15,
   "id": "05de997c-ffa8-4e90-803f-897bb7ffcab7",
   "metadata": {},
   "outputs": [
    {
     "data": {
      "text/plain": [
       "SizeOfOptionalHeader           float64\n",
       "MinorLinkerVersion             float64\n",
       "SizeOfCode                     float64\n",
       "SizeOfInitializedData          float64\n",
       "SizeOfUninitializedData        float64\n",
       "BaseOfCode                     float64\n",
       "BaseOfData                     float64\n",
       "ImageBase                      float64\n",
       "SectionAlignment               float64\n",
       "MajorOperatingSystemVersion    float64\n",
       "MinorImageVersion              float64\n",
       "MajorSubsystemVersion          float64\n",
       "SizeOfHeaders                  float64\n",
       "CheckSum                       float64\n",
       "Subsystem                      float64\n",
       "DllCharacteristics             float64\n",
       "SizeOfStackReserve             float64\n",
       "SizeOfStackCommit              float64\n",
       "SizeOfHeapReserve              float64\n",
       "NumberOfRvaAndSizes            float64\n",
       "SectionsNb                     float64\n",
       "SectionsMinEntropy             float64\n",
       "SectionsMaxEntropy             float64\n",
       "SectionMaxRawsize              float64\n",
       "SectionsMinVirtualsize         float64\n",
       "SectionMaxVirtualsize          float64\n",
       "ImportsNb                      float64\n",
       "ImportsNbOrdinal               float64\n",
       "ExportNb                       float64\n",
       "ResourcesNb                    float64\n",
       "ResourcesMinEntropy            float64\n",
       "ResourcesMaxEntropy            float64\n",
       "ResourcesMinSize               float64\n",
       "ResourcesMaxSize               float64\n",
       "LoadConfigurationSize          float64\n",
       "VersionInformationSize         float64\n",
       "dtype: object"
      ]
     },
     "execution_count": 15,
     "metadata": {},
     "output_type": "execute_result"
    }
   ],
   "source": [
    "df.dtypes"
   ]
  },
  {
   "cell_type": "code",
   "execution_count": null,
   "id": "9be9b878-3dc5-43c9-96df-086ad94bd80f",
   "metadata": {},
   "outputs": [],
   "source": []
  }
 ],
 "metadata": {
  "kernelspec": {
   "display_name": "Python 3 (ipykernel)",
   "language": "python",
   "name": "python3"
  },
  "language_info": {
   "codemirror_mode": {
    "name": "ipython",
    "version": 3
   },
   "file_extension": ".py",
   "mimetype": "text/x-python",
   "name": "python",
   "nbconvert_exporter": "python",
   "pygments_lexer": "ipython3",
   "version": "3.9.10"
  }
 },
 "nbformat": 4,
 "nbformat_minor": 5
}
