{
 "cells": [
  {
   "cell_type": "code",
   "execution_count": null,
   "id": "94f182cd-ed13-4f06-9ec1-3c32ebd22d1d",
   "metadata": {},
   "outputs": [],
   "source": [
    "from kubernetes import client \n",
    "from kserve import KServeClient\n",
    "from kserve import constants\n",
    "from kserve import utils\n",
    "from kserve import V1beta1InferenceService\n",
    "from kserve import V1beta1InferenceServiceSpec\n",
    "from kserve import V1beta1PredictorSpec\n",
    "from kserve import V1beta1SKLearnSpec"
   ]
  },
  {
   "cell_type": "code",
   "execution_count": null,
   "id": "9a635267-5531-4cb0-983f-5b6c125507e2",
   "metadata": {},
   "outputs": [],
   "source": [
    "name = \"logistical\"\n",
    "namespace = utils.get_default_target_namespace()\n",
    "kserve_version='v1beta1'\n",
    "api_version = constants.KSERVE_GROUP + '/' + kserve_version\n",
    "isvc2 = V1beta1InferenceService(\n",
    "    api_version=api_version,\n",
    "    kind=constants.KSERVE_KIND,\n",
    "    metadata=client.V1ObjectMeta(\n",
    "        name=name,\n",
    "        namespace=namespace,\n",
    "        annotations={'sidecar.istio.io/inject': 'false'}\n",
    "    ),\n",
    "    spec=V1beta1InferenceServiceSpec(\n",
    "        predictor=V1beta1PredictorSpec(\n",
    "            service_account_name=\"s3-service-account\",\n",
    "            sklearn=V1beta1SKLearnSpec(\n",
    "                storage_uri=\"s3://dvcbucketews/logreg.pkl\"\n",
    "            )\n",
    "        )\n",
    "    )\n",
    ")"
   ]
  },
  {
   "cell_type": "code",
   "execution_count": null,
   "id": "5f62e55c-3103-4a19-804f-b4be3e532dc6",
   "metadata": {},
   "outputs": [],
   "source": [
    "KServe = KServeClient()\n",
    "KServe.create(isvc2)"
   ]
  },
  {
   "cell_type": "code",
   "execution_count": null,
   "id": "4b2a4b2e-34a2-4fa3-bb0a-9e0fd1e05451",
   "metadata": {},
   "outputs": [],
   "source": [
    "KServe = KServeClient()\n",
    "\n",
    "import requests\n",
    "\n",
    "namespace = utils.get_default_target_namespace()\n",
    "\n",
    "\n",
    "isvc_status = KServe.get(name, namespace=namespace)\n",
    "print(isvc_status)"
   ]
  },
  {
   "cell_type": "code",
   "execution_count": null,
   "id": "2dc8a043-b575-445d-9fde-cfd5db847b0f",
   "metadata": {},
   "outputs": [],
   "source": [
    "try:\n",
    "    model_endpoint = isvc_status['status']['address']['url']\n",
    "    print(f\"Model endpoint: {model_endpoint}\")\n",
    "except KeyError:\n",
    "    print(\"Error: Unable to retrieve the model endpoint.\")"
   ]
  },
  {
   "cell_type": "code",
   "execution_count": null,
   "id": "713f40b7-5193-444c-aa71-11f2adb3b758",
   "metadata": {},
   "outputs": [],
   "source": [
    "# steps: \n",
    "#1. rename the old model to its original name (by cp then delete)\n",
    "#2. rename the new model to mode (by cp and delete)"
   ]
  },
  {
   "cell_type": "code",
   "execution_count": null,
   "id": "73a5bc2b-46b2-44aa-8292-039246f49c60",
   "metadata": {},
   "outputs": [],
   "source": [
    "import boto3\n",
    "\n",
    "\n",
    "s3 = boto3.client('s3')\n",
    "\n",
    "# Define the bucket name, original object key, and new object key\n",
    "bucket_name = 'dvcbucketews'\n",
    "original_key = 'logreg.pkl'\n",
    "new_key = 'logreg2.pkl'\n",
    "\n",
    "# Copy the object\n",
    "s3.copy_object(\n",
    "    Bucket=bucket_name,\n",
    "    CopySource={'Bucket': bucket_name, 'Key': original_key},\n",
    "    Key=new_key\n",
    "    \n",
    ")\n",
    "\n",
    "# Delete the original object\n",
    "s3.delete_object(Bucket=bucket_name, Key=original_key)\n",
    "\n",
    "print(f\"Object renamed from {original_key} to {new_key}\")"
   ]
  },
  {
   "cell_type": "code",
   "execution_count": null,
   "id": "ae10de68-4242-4ee9-9cb4-06e9ae3c0f3f",
   "metadata": {},
   "outputs": [],
   "source": [
    "s3.delete_object(Bucket=bucket_name, Key=original_key)\n"
   ]
  }
 ],
 "metadata": {
  "kernelspec": {
   "display_name": "Python 3 (ipykernel)",
   "language": "python",
   "name": "python3"
  },
  "language_info": {
   "codemirror_mode": {
    "name": "ipython",
    "version": 3
   },
   "file_extension": ".py",
   "mimetype": "text/x-python",
   "name": "python",
   "nbconvert_exporter": "python",
   "pygments_lexer": "ipython3",
   "version": "3.9.10"
  }
 },
 "nbformat": 4,
 "nbformat_minor": 5
}
