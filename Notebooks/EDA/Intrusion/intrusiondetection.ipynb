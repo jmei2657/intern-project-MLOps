{
 "cells": [
  {
   "cell_type": "code",
   "execution_count": 3,
   "id": "217093b9-3521-4781-8a8d-d9d0d5ad3d76",
   "metadata": {},
   "outputs": [],
   "source": [
    "from sklearn.preprocessing import OrdinalEncoder\n",
    "import pandas as pd\n",
    "from sklearn.model_selection import train_test_split\n",
    "from sklearn.model_selection import GridSearchCV\n",
    "from sklearn.model_selection import cross_val_score\n",
    "\n",
    "from sklearn.linear_model import LogisticRegression\n",
    "from sklearn.naive_bayes import GaussianNB\n",
    "from sklearn.ensemble import GradientBoostingClassifier\n",
    "from sklearn.svm import SVC\n",
    "from sklearn.tree import DecisionTreeClassifier\n",
    "from sklearn.ensemble import RandomForestClassifier\n",
    "\n",
    "from sklearn.metrics import accuracy_score\n",
    "from sklearn.metrics import f1_score\n",
    "from sklearn.metrics import confusion_matrix, ConfusionMatrixDisplay\n",
    "\n",
    "import time\n",
    "import numpy as np\n",
    "\n",
    "from scipy.special import boxcox"
   ]
  },
  {
   "cell_type": "markdown",
   "id": "ec3cb880-c796-4bb9-b2e0-4bf95bd99dfb",
   "metadata": {},
   "source": [
    "### Preprocessing"
   ]
  },
  {
   "cell_type": "code",
   "execution_count": null,
   "id": "c4b0c91a-55fa-49f0-945a-bb23c5329ea7",
   "metadata": {},
   "outputs": [],
   "source": [
    "# Encode a numeric column as zscores\n",
    "def zscore_normalization(df, name):\n",
    "    mean = df[name].mean()\n",
    "    sd = df[name].std()\n",
    "\n",
    "    df[name] = (df[name] - mean) / sd\n",
    "\n",
    "def encode_text(df, name):\n",
    "    enc = OrdinalEncoder()\n",
    "    # dummies = pd.get_dummies(df[name])\n",
    "    data = enc.fit_transform(df[name].values.reshape(-1,1))\n",
    "    df[name]=data.flatten()\n",
    "\n",
    "def column_names():\n",
    "    \"\"\"Reads column names for dataframe into array\"\"\"\n",
    "    f = open(\"kddcup.names.txt\")\n",
    "    s = f.read()\n",
    "    arr = s.split(\"\\n\")[1:-1]\n",
    "    cols = [a[0:a.index(\":\")] for a in arr]\n",
    "    cols.append(\"outcome\")\n",
    "    return cols\n",
    "\n",
    "\n",
    "\n",
    "def preprocess(df):\n",
    "    df.columns = column_names()\n",
    "\n",
    "    df.loc[df['outcome'] != \"normal.\", 'virus']  = 1\n",
    "    df.loc[df['outcome'] == \"normal.\", 'normal']  = 0\n",
    "\n",
    "    for col in df.columns:\n",
    "        t = (df[col].dtype)\n",
    "        if t == int or t == float:\n",
    "            df[col] = boxcox(df[col], 0.5)\n",
    "            zscore_normalization(df, col)\n",
    "        else:\n",
    "            encode_text(df, col)\n",
    "    \n",
    "    df.dropna(inplace=True,axis=1)\n",
    "    for col in df.columns:\n",
    "        if len(df[col].unique()) == 1:\n",
    "            df.drop(col, inplace=True,axis=1)\n",
    "\n",
    "    correlation = df.corrwith(df['outcome'])\n",
    "\n",
    "    # Feature selection\n",
    "    row = 0\n",
    "    for num in correlation:\n",
    "     if num >= -0.05 and num <= 0.05:\n",
    "         df.drop(df.columns[row], axis=1, inplace=True)\n",
    "         row += 1\n",
    "\n",
    "    return df"
   ]
  },
  {
   "cell_type": "code",
   "execution_count": null,
   "id": "ac666cf9",
   "metadata": {},
   "outputs": [],
   "source": [
    "def traintest_split(df):\n",
    "    X = df.drop(columns=[\"outcome\"])\n",
    "    y = df[\"outcome\"]\n",
    "    X_train, X_test, y_train, y_test = train_test_split(X, y, test_size=0.2)\n",
    "    return X_train, X_test, y_train, y_test"
   ]
  },
  {
   "cell_type": "markdown",
   "id": "eb93c26b-7716-44f2-ae9e-45eeca83e140",
   "metadata": {},
   "source": [
    "### Model Training and Testing"
   ]
  },
  {
   "cell_type": "code",
   "execution_count": 10,
   "id": "a37ac4ed-ac78-47f0-9eed-9b0e5e455f51",
   "metadata": {},
   "outputs": [],
   "source": [
    "import pickle\n",
    "import tensorflow as tf\n",
    "\n",
    "def training_basic_classifier(model, ann, X_train, X_test, y_train, y_test):\n",
    "    if ann == False:\n",
    "        start_train = time.time()\n",
    "        model.fit(X_train, y_train)\n",
    "        end_train = time.time()\n",
    "        \n",
    "        start_test = time.time()\n",
    "        y_pred2=model.predict(X_test)\n",
    "        end_test = time.time()\n",
    "        \n",
    "        train_time = end_train-start_train\n",
    "        test_time = end_test-start_test\n",
    "        accuracy = accuracy_score(y_test, y_pred2)\n",
    "        f1 = f1_score(y_test, y_pred2)\n",
    "        print(f\"RFC Accuracy: {accuracy}\")\n",
    "        print(f\"RFC F1 Score: {f1}\")\n",
    "    else:\n",
    "        input_shape = [X_train.shape[1]]\n",
    "\n",
    "        start_train = time.time()\n",
    "\n",
    "        model = tf.keras.Sequential([\n",
    "        \n",
    "            tf.keras.layers.Dense(units=64, activation='relu', input_shape=input_shape),\n",
    "            tf.keras.layers.Dense(units=64, activation='relu'),\n",
    "            tf.keras.layers.Dense(units=1)\n",
    "        ])\n",
    "\n",
    "        model.build()\n",
    "\n",
    "        print(model.summary())\n",
    "\n",
    "        model.compile(optimizer='adam', loss='mae',  metrics=['accuracy'])  \n",
    "\n",
    "        history = model.fit(X_train, y_train, validation_data=(X_test,y_test), batch_size=256, epochs=12,)\n",
    "\n",
    "        end_train=time.time()\n",
    "\n",
    "    with open(f'model.pkl', 'wb') as f:\n",
    "        pickle.dump(model, f)\n"
   ]
  },
  {
   "cell_type": "code",
   "execution_count": null,
   "id": "8a5e64f7",
   "metadata": {},
   "outputs": [],
   "source": [
    "def train(file_path):\n",
    "    df = pd.read_csv(file_path, names=column_names())\n",
    "    df = preprocess(df)\n",
    "    X_train, X_test, y_train, y_test = traintest_split(df)\n",
    "    training_basic_classifier(RandomForestClassifier(),X_train, X_test, y_train, y_test, ann=False)"
   ]
  },
  {
   "cell_type": "markdown",
   "id": "6b722e8f",
   "metadata": {},
   "source": [
    "### Predict"
   ]
  },
  {
   "cell_type": "code",
   "execution_count": null,
   "id": "0d9069f0",
   "metadata": {},
   "outputs": [],
   "source": [
    "def predict(test_data):\n",
    "    with open (f'model.pkl', 'rb') as f:\n",
    "        model = pickle.load(f)\n",
    "\n",
    "    y_pred = model.predict(test_data)\n",
    "    return y_pred"
   ]
  }
 ],
 "metadata": {
  "kernelspec": {
   "display_name": "Python 3 (ipykernel)",
   "language": "python",
   "name": "python3"
  },
  "language_info": {
   "codemirror_mode": {
    "name": "ipython",
    "version": 3
   },
   "file_extension": ".py",
   "mimetype": "text/x-python",
   "name": "python",
   "nbconvert_exporter": "python",
   "pygments_lexer": "ipython3",
   "version": "3.8.10"
  }
 },
 "nbformat": 4,
 "nbformat_minor": 5
}
